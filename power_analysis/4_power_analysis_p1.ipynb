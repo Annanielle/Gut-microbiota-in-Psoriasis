{
 "cells": [
  {
   "cell_type": "markdown",
   "metadata": {},
   "source": [
    "# Goal\n",
    "\n",
    "get metadata and PCs for power calculation\n"
   ]
  },
  {
   "cell_type": "markdown",
   "metadata": {},
   "source": [
    "# Var"
   ]
  },
  {
   "cell_type": "code",
   "execution_count": 1,
   "metadata": {
    "vscode": {
     "languageId": "r"
    }
   },
   "outputs": [],
   "source": [
    "work_dir = '/Users/abogdanova/Desktop/abogdanova/psoriasis/remote/Gut-microbiota-in-Psoriasis/power_analysis'"
   ]
  },
  {
   "cell_type": "markdown",
   "metadata": {},
   "source": [
    "# Init"
   ]
  },
  {
   "cell_type": "code",
   "execution_count": 2,
   "metadata": {
    "vscode": {
     "languageId": "r"
    }
   },
   "outputs": [],
   "source": [
    "library(phyloseq)\n",
    "library(ggplot2)"
   ]
  },
  {
   "cell_type": "markdown",
   "metadata": {},
   "source": [
    "# Load"
   ]
  },
  {
   "cell_type": "code",
   "execution_count": 5,
   "metadata": {
    "vscode": {
     "languageId": "r"
    }
   },
   "outputs": [],
   "source": [
    "load('../psq3.RData')"
   ]
  },
  {
   "cell_type": "markdown",
   "metadata": {},
   "source": [
    "# Analysis"
   ]
  },
  {
   "cell_type": "code",
   "execution_count": 6,
   "metadata": {
    "vscode": {
     "languageId": "r"
    }
   },
   "outputs": [
    {
     "data": {
      "text/plain": [
       "phyloseq-class experiment-level object\n",
       "otu_table()   OTU Table:         [ 249 taxa and 100 samples ]\n",
       "sample_data() Sample Data:       [ 100 samples by 56 sample variables ]\n",
       "tax_table()   Taxonomy Table:    [ 249 taxa by 7 taxonomic ranks ]"
      ]
     },
     "metadata": {},
     "output_type": "display_data"
    }
   ],
   "source": [
    "psq3"
   ]
  },
  {
   "cell_type": "code",
   "execution_count": 7,
   "metadata": {
    "vscode": {
     "languageId": "r"
    }
   },
   "outputs": [],
   "source": [
    "ord_pty <- ordinate(psq3, \"PCoA\", \"bray\",weighted=FALSE)"
   ]
  },
  {
   "cell_type": "code",
   "execution_count": 8,
   "metadata": {
    "vscode": {
     "languageId": "r"
    }
   },
   "outputs": [
    {
     "data": {
      "text/html": [
       "51.9362302080746"
      ],
      "text/latex": [
       "51.9362302080746"
      ],
      "text/markdown": [
       "51.9362302080746"
      ],
      "text/plain": [
       "[1] 51.93623"
      ]
     },
     "metadata": {},
     "output_type": "display_data"
    }
   ],
   "source": [
    "eigs_pty<- ord_pty$values\n",
    "sum(eigs_pty$Eigenvalues[1:4])/sum(eigs_pty$Eigenvalues)*100\n",
    "\n",
    "# top 4 PCs explain 52% of pathway variation"
   ]
  },
  {
   "cell_type": "code",
   "execution_count": 9,
   "metadata": {
    "vscode": {
     "languageId": "r"
    }
   },
   "outputs": [],
   "source": [
    "# get and export the bray distance matrix used to compute PCoA:\n",
    "bray_d <- phyloseq::distance(physeq=psq3, method=\"bray\")"
   ]
  },
  {
   "cell_type": "code",
   "execution_count": 10,
   "metadata": {
    "vscode": {
     "languageId": "r"
    }
   },
   "outputs": [],
   "source": [
    "# Important: add '\\t' in the beggining of the header line\n",
    "id_diagnosis <- sample_data(psq3)[,c('ID','Diagnosis', 'Calprotectin')]"
   ]
  },
  {
   "cell_type": "code",
   "execution_count": 11,
   "metadata": {
    "vscode": {
     "languageId": "r"
    }
   },
   "outputs": [],
   "source": [
    "class(id_diagnosis) <- c(\"data.frame\")"
   ]
  },
  {
   "cell_type": "code",
   "execution_count": 12,
   "metadata": {
    "vscode": {
     "languageId": "r"
    }
   },
   "outputs": [
    {
     "data": {
      "text/html": [
       "<table class=\"dataframe\">\n",
       "<caption>A data.frame: 2 x 3</caption>\n",
       "<thead>\n",
       "\t<tr><th></th><th scope=col>ID</th><th scope=col>Diagnosis</th><th scope=col>Calprotectin</th></tr>\n",
       "\t<tr><th></th><th scope=col>&lt;chr&gt;</th><th scope=col>&lt;chr&gt;</th><th scope=col>&lt;dbl&gt;</th></tr>\n",
       "</thead>\n",
       "<tbody>\n",
       "\t<tr><th scope=row>D9_profile</th><td>D9_profile </td><td>control</td><td>13.25</td></tr>\n",
       "\t<tr><th scope=row>D99_profile</th><td>D99_profile</td><td>control</td><td>17.75</td></tr>\n",
       "</tbody>\n",
       "</table>\n"
      ],
      "text/latex": [
       "A data.frame: 2 x 3\n",
       "\\begin{tabular}{r|lll}\n",
       "  & ID & Diagnosis & Calprotectin\\\\\n",
       "  & <chr> & <chr> & <dbl>\\\\\n",
       "\\hline\n",
       "\tD9\\_profile & D9\\_profile  & control & 13.25\\\\\n",
       "\tD99\\_profile & D99\\_profile & control & 17.75\\\\\n",
       "\\end{tabular}\n"
      ],
      "text/markdown": [
       "\n",
       "A data.frame: 2 x 3\n",
       "\n",
       "| <!--/--> | ID &lt;chr&gt; | Diagnosis &lt;chr&gt; | Calprotectin &lt;dbl&gt; |\n",
       "|---|---|---|---|\n",
       "| D9_profile | D9_profile  | control | 13.25 |\n",
       "| D99_profile | D99_profile | control | 17.75 |\n",
       "\n"
      ],
      "text/plain": [
       "            ID          Diagnosis Calprotectin\n",
       "D9_profile  D9_profile  control   13.25       \n",
       "D99_profile D99_profile control   17.75       "
      ]
     },
     "metadata": {},
     "output_type": "display_data"
    }
   ],
   "source": [
    "id_diagnosis[1:2,]"
   ]
  },
  {
   "cell_type": "code",
   "execution_count": 13,
   "metadata": {
    "vscode": {
     "languageId": "r"
    }
   },
   "outputs": [],
   "source": [
    "PC_coords <- ord_pty$vectors"
   ]
  },
  {
   "cell_type": "code",
   "execution_count": 14,
   "metadata": {
    "vscode": {
     "languageId": "r"
    }
   },
   "outputs": [],
   "source": [
    "ids_pcs <- data.frame(IDs=c(row.names(PC_coords)),PC_coords[,1:4])"
   ]
  },
  {
   "cell_type": "code",
   "execution_count": 15,
   "metadata": {
    "vscode": {
     "languageId": "r"
    }
   },
   "outputs": [
    {
     "data": {
      "text/html": [
       "<table class=\"dataframe\">\n",
       "<caption>A data.frame: 3 x 5</caption>\n",
       "<thead>\n",
       "\t<tr><th></th><th scope=col>IDs</th><th scope=col>Axis.1</th><th scope=col>Axis.2</th><th scope=col>Axis.3</th><th scope=col>Axis.4</th></tr>\n",
       "\t<tr><th></th><th scope=col>&lt;chr&gt;</th><th scope=col>&lt;dbl&gt;</th><th scope=col>&lt;dbl&gt;</th><th scope=col>&lt;dbl&gt;</th><th scope=col>&lt;dbl&gt;</th></tr>\n",
       "</thead>\n",
       "<tbody>\n",
       "\t<tr><th scope=row>D9_profile</th><td>D9_profile </td><td> 0.17058585</td><td>-0.001363179</td><td>0.05577144</td><td>-0.11803767</td></tr>\n",
       "\t<tr><th scope=row>D99_profile</th><td>D99_profile</td><td>-0.16300604</td><td>-0.212192527</td><td>0.19710386</td><td> 0.06483316</td></tr>\n",
       "\t<tr><th scope=row>D98_profile</th><td>D98_profile</td><td>-0.03264002</td><td> 0.109935642</td><td>0.16117134</td><td> 0.14285781</td></tr>\n",
       "</tbody>\n",
       "</table>\n"
      ],
      "text/latex": [
       "A data.frame: 3 x 5\n",
       "\\begin{tabular}{r|lllll}\n",
       "  & IDs & Axis.1 & Axis.2 & Axis.3 & Axis.4\\\\\n",
       "  & <chr> & <dbl> & <dbl> & <dbl> & <dbl>\\\\\n",
       "\\hline\n",
       "\tD9\\_profile & D9\\_profile  &  0.17058585 & -0.001363179 & 0.05577144 & -0.11803767\\\\\n",
       "\tD99\\_profile & D99\\_profile & -0.16300604 & -0.212192527 & 0.19710386 &  0.06483316\\\\\n",
       "\tD98\\_profile & D98\\_profile & -0.03264002 &  0.109935642 & 0.16117134 &  0.14285781\\\\\n",
       "\\end{tabular}\n"
      ],
      "text/markdown": [
       "\n",
       "A data.frame: 3 x 5\n",
       "\n",
       "| <!--/--> | IDs &lt;chr&gt; | Axis.1 &lt;dbl&gt; | Axis.2 &lt;dbl&gt; | Axis.3 &lt;dbl&gt; | Axis.4 &lt;dbl&gt; |\n",
       "|---|---|---|---|---|---|\n",
       "| D9_profile | D9_profile  |  0.17058585 | -0.001363179 | 0.05577144 | -0.11803767 |\n",
       "| D99_profile | D99_profile | -0.16300604 | -0.212192527 | 0.19710386 |  0.06483316 |\n",
       "| D98_profile | D98_profile | -0.03264002 |  0.109935642 | 0.16117134 |  0.14285781 |\n",
       "\n"
      ],
      "text/plain": [
       "            IDs         Axis.1      Axis.2       Axis.3     Axis.4     \n",
       "D9_profile  D9_profile   0.17058585 -0.001363179 0.05577144 -0.11803767\n",
       "D99_profile D99_profile -0.16300604 -0.212192527 0.19710386  0.06483316\n",
       "D98_profile D98_profile -0.03264002  0.109935642 0.16117134  0.14285781"
      ]
     },
     "metadata": {},
     "output_type": "display_data"
    }
   ],
   "source": [
    "ids_pcs[1:3,]"
   ]
  },
  {
   "cell_type": "code",
   "execution_count": 16,
   "metadata": {
    "vscode": {
     "languageId": "r"
    }
   },
   "outputs": [
    {
     "data": {
      "text/html": [
       "<table class=\"dataframe\">\n",
       "<caption>A data.frame: 3 x 7</caption>\n",
       "<thead>\n",
       "\t<tr><th></th><th scope=col>ID</th><th scope=col>Diagnosis</th><th scope=col>Calprotectin</th><th scope=col>Axis.1</th><th scope=col>Axis.2</th><th scope=col>Axis.3</th><th scope=col>Axis.4</th></tr>\n",
       "\t<tr><th></th><th scope=col>&lt;chr&gt;</th><th scope=col>&lt;chr&gt;</th><th scope=col>&lt;dbl&gt;</th><th scope=col>&lt;dbl&gt;</th><th scope=col>&lt;dbl&gt;</th><th scope=col>&lt;dbl&gt;</th><th scope=col>&lt;dbl&gt;</th></tr>\n",
       "</thead>\n",
       "<tbody>\n",
       "\t<tr><th scope=row>1</th><td>D9_profile </td><td>control</td><td>13.25</td><td> 0.17058585</td><td>-0.001363179</td><td>0.05577144</td><td>-0.11803767</td></tr>\n",
       "\t<tr><th scope=row>2</th><td>D99_profile</td><td>control</td><td>17.75</td><td>-0.16300604</td><td>-0.212192527</td><td>0.19710386</td><td> 0.06483316</td></tr>\n",
       "\t<tr><th scope=row>3</th><td>D98_profile</td><td>control</td><td> 6.25</td><td>-0.03264002</td><td> 0.109935642</td><td>0.16117134</td><td> 0.14285781</td></tr>\n",
       "</tbody>\n",
       "</table>\n"
      ],
      "text/latex": [
       "A data.frame: 3 x 7\n",
       "\\begin{tabular}{r|lllllll}\n",
       "  & ID & Diagnosis & Calprotectin & Axis.1 & Axis.2 & Axis.3 & Axis.4\\\\\n",
       "  & <chr> & <chr> & <dbl> & <dbl> & <dbl> & <dbl> & <dbl>\\\\\n",
       "\\hline\n",
       "\t1 & D9\\_profile  & control & 13.25 &  0.17058585 & -0.001363179 & 0.05577144 & -0.11803767\\\\\n",
       "\t2 & D99\\_profile & control & 17.75 & -0.16300604 & -0.212192527 & 0.19710386 &  0.06483316\\\\\n",
       "\t3 & D98\\_profile & control &  6.25 & -0.03264002 &  0.109935642 & 0.16117134 &  0.14285781\\\\\n",
       "\\end{tabular}\n"
      ],
      "text/markdown": [
       "\n",
       "A data.frame: 3 x 7\n",
       "\n",
       "| <!--/--> | ID &lt;chr&gt; | Diagnosis &lt;chr&gt; | Calprotectin &lt;dbl&gt; | Axis.1 &lt;dbl&gt; | Axis.2 &lt;dbl&gt; | Axis.3 &lt;dbl&gt; | Axis.4 &lt;dbl&gt; |\n",
       "|---|---|---|---|---|---|---|---|\n",
       "| 1 | D9_profile  | control | 13.25 |  0.17058585 | -0.001363179 | 0.05577144 | -0.11803767 |\n",
       "| 2 | D99_profile | control | 17.75 | -0.16300604 | -0.212192527 | 0.19710386 |  0.06483316 |\n",
       "| 3 | D98_profile | control |  6.25 | -0.03264002 |  0.109935642 | 0.16117134 |  0.14285781 |\n",
       "\n"
      ],
      "text/plain": [
       "  ID          Diagnosis Calprotectin Axis.1      Axis.2       Axis.3    \n",
       "1 D9_profile  control   13.25         0.17058585 -0.001363179 0.05577144\n",
       "2 D99_profile control   17.75        -0.16300604 -0.212192527 0.19710386\n",
       "3 D98_profile control    6.25        -0.03264002  0.109935642 0.16117134\n",
       "  Axis.4     \n",
       "1 -0.11803767\n",
       "2  0.06483316\n",
       "3  0.14285781"
      ]
     },
     "metadata": {},
     "output_type": "display_data"
    }
   ],
   "source": [
    "PCs_status <- merge(x=id_diagnosis, y=ids_pcs, by.x='ID', by.y='IDs',sort=F)\n",
    "PCs_status[1:3,]"
   ]
  },
  {
   "cell_type": "code",
   "execution_count": 17,
   "metadata": {
    "vscode": {
     "languageId": "r"
    }
   },
   "outputs": [],
   "source": [
    "# export PCs computed using bray distances:\n",
    "write.table(PCs_status, file=\"./PCs_status.txt\", quote=F, row.names=F, sep=\"\\t\")\n"
   ]
  }
 ],
 "metadata": {
  "kernelspec": {
   "display_name": "R",
   "language": "R",
   "name": "ir"
  },
  "language_info": {
   "codemirror_mode": "r",
   "file_extension": ".r",
   "mimetype": "text/x-r-source",
   "name": "R",
   "pygments_lexer": "r",
   "version": "4.3.2"
  }
 },
 "nbformat": 4,
 "nbformat_minor": 2
}
