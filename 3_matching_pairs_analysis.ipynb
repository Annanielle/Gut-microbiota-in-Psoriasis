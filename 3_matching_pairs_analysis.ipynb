{
 "cells": [
  {
   "cell_type": "markdown",
   "metadata": {},
   "source": [
    "# Goal\n",
    "Create matched paires and conduct matching paires Wilcoxon test with CLR transformed metagenomes"
   ]
  },
  {
   "cell_type": "markdown",
   "metadata": {},
   "source": [
    "# Libraries"
   ]
  },
  {
   "cell_type": "code",
   "execution_count": 66,
   "metadata": {
    "vscode": {
     "languageId": "r"
    }
   },
   "outputs": [],
   "source": [
    "library(MatchIt)\n",
    "library(optmatch)\n",
    "library(PairedData)\n",
    "library(microbiome)\n",
    "library(dplyr)\n",
    "library(phyloseq)\n",
    "library(ggplot2)\n",
    "library(plyr)\n",
    "library(zCompositions)\n",
    "library(compositions)\n",
    "library(textshape)\n",
    "library(tibble)\n",
    "library(gcookbook)\n",
    "library(tidyverse)\n",
    "library(\"varhandle\")"
   ]
  },
  {
   "cell_type": "code",
   "execution_count": 67,
   "metadata": {
    "vscode": {
     "languageId": "r"
    }
   },
   "outputs": [],
   "source": [
    "source(\"./Wilcoxon_Sign_Rank_Test_v2.R\")"
   ]
  },
  {
   "cell_type": "markdown",
   "metadata": {},
   "source": [
    "# Load"
   ]
  },
  {
   "cell_type": "code",
   "execution_count": 68,
   "metadata": {
    "vscode": {
     "languageId": "r"
    }
   },
   "outputs": [],
   "source": [
    "load(\"psq3.RData\")\n",
    "load(\"filt_psq.RData\")\n",
    "load('phyloseq-psor-control-metagenome.RData')"
   ]
  },
  {
   "cell_type": "code",
   "execution_count": 69,
   "metadata": {
    "vscode": {
     "languageId": "r"
    }
   },
   "outputs": [
    {
     "data": {
      "text/plain": [
       "phyloseq-class experiment-level object\n",
       "otu_table()   OTU Table:         [ 424 taxa and 100 samples ]\n",
       "sample_data() Sample Data:       [ 100 samples by 56 sample variables ]\n",
       "tax_table()   Taxonomy Table:    [ 424 taxa by 7 taxonomic ranks ]"
      ]
     },
     "metadata": {},
     "output_type": "display_data"
    }
   ],
   "source": [
    "psq"
   ]
  },
  {
   "cell_type": "markdown",
   "metadata": {},
   "source": [
    "# Analysis"
   ]
  },
  {
   "cell_type": "markdown",
   "metadata": {},
   "source": [
    "NEAREST NEIGHBOR MATCHING - WITHOUT computing Propensity Score\n",
    "\n",
    "MATCHED-PAIR CONSTRUCTION based on FAMILY-level PCs"
   ]
  },
  {
   "cell_type": "code",
   "execution_count": 111,
   "metadata": {
    "vscode": {
     "languageId": "r"
    }
   },
   "outputs": [],
   "source": [
    "# (\"Kingdom\", \"Phylum\", \"Class\",\"Order\", \"Family\",\"Genus\",\"Species\")\n",
    "comp_psq <- microbiome::transform(psq1, \"compositional\")\n",
    "comp_psq_family <- aggregate_taxa(comp_psq, level = \"Family\")\n",
    "ord_family <- ordinate(comp_psq_family, \"PCoA\", \"bray\")"
   ]
  },
  {
   "cell_type": "code",
   "execution_count": 112,
   "metadata": {
    "vscode": {
     "languageId": "r"
    }
   },
   "outputs": [
    {
     "data": {
      "text/html": [
       "69.3796685409253"
      ],
      "text/latex": [
       "69.3796685409253"
      ],
      "text/markdown": [
       "69.3796685409253"
      ],
      "text/plain": [
       "[1] 69.37967"
      ]
     },
     "metadata": {},
     "output_type": "display_data"
    }
   ],
   "source": [
    "eigs_family <- ord_family$values\n",
    "eigs_family$Eigenvalues[1]/sum(eigs_family$Eigenvalues)*100\n",
    "#69.37967"
   ]
  },
  {
   "cell_type": "code",
   "execution_count": 113,
   "metadata": {
    "vscode": {
     "languageId": "r"
    }
   },
   "outputs": [
    {
     "data": {
      "text/html": [
       "12.2968618609626"
      ],
      "text/latex": [
       "12.2968618609626"
      ],
      "text/markdown": [
       "12.2968618609626"
      ],
      "text/plain": [
       "[1] 12.29686"
      ]
     },
     "metadata": {},
     "output_type": "display_data"
    }
   ],
   "source": [
    "eigs_family$Eigenvalues[2]/sum(eigs_family$Eigenvalues)*100\n",
    "# 69.37967+12.29686 = 81.67653"
   ]
  },
  {
   "cell_type": "code",
   "execution_count": 114,
   "metadata": {
    "vscode": {
     "languageId": "r"
    }
   },
   "outputs": [
    {
     "data": {
      "text/html": [
       "'sample_data'"
      ],
      "text/latex": [
       "'sample\\_data'"
      ],
      "text/markdown": [
       "'sample_data'"
      ],
      "text/plain": [
       "[1] \"sample_data\"\n",
       "attr(,\"package\")\n",
       "[1] \"phyloseq\""
      ]
     },
     "metadata": {},
     "output_type": "display_data"
    }
   ],
   "source": [
    "id_diagnosis <- sample_data(comp_psq)[,c('ID','Diagnosis')]\n",
    "class(id_diagnosis) #sample_data"
   ]
  },
  {
   "cell_type": "code",
   "execution_count": 115,
   "metadata": {
    "vscode": {
     "languageId": "r"
    }
   },
   "outputs": [
    {
     "data": {
      "text/html": [
       "<table class=\"dataframe\">\n",
       "<caption>A data.frame: 6 x 2</caption>\n",
       "<thead>\n",
       "\t<tr><th></th><th scope=col>ID</th><th scope=col>Diagnosis</th></tr>\n",
       "\t<tr><th></th><th scope=col>&lt;chr&gt;</th><th scope=col>&lt;chr&gt;</th></tr>\n",
       "</thead>\n",
       "<tbody>\n",
       "\t<tr><th scope=row>D9_profile</th><td>D9_profile </td><td>control</td></tr>\n",
       "\t<tr><th scope=row>D99_profile</th><td>D99_profile</td><td>control</td></tr>\n",
       "\t<tr><th scope=row>D98_profile</th><td>D98_profile</td><td>control</td></tr>\n",
       "\t<tr><th scope=row>D97_profile</th><td>D97_profile</td><td>control</td></tr>\n",
       "\t<tr><th scope=row>D96_profile</th><td>D96_profile</td><td>control</td></tr>\n",
       "\t<tr><th scope=row>D95_profile</th><td>D95_profile</td><td>control</td></tr>\n",
       "</tbody>\n",
       "</table>\n"
      ],
      "text/latex": [
       "A data.frame: 6 x 2\n",
       "\\begin{tabular}{r|ll}\n",
       "  & ID & Diagnosis\\\\\n",
       "  & <chr> & <chr>\\\\\n",
       "\\hline\n",
       "\tD9\\_profile & D9\\_profile  & control\\\\\n",
       "\tD99\\_profile & D99\\_profile & control\\\\\n",
       "\tD98\\_profile & D98\\_profile & control\\\\\n",
       "\tD97\\_profile & D97\\_profile & control\\\\\n",
       "\tD96\\_profile & D96\\_profile & control\\\\\n",
       "\tD95\\_profile & D95\\_profile & control\\\\\n",
       "\\end{tabular}\n"
      ],
      "text/markdown": [
       "\n",
       "A data.frame: 6 x 2\n",
       "\n",
       "| <!--/--> | ID &lt;chr&gt; | Diagnosis &lt;chr&gt; |\n",
       "|---|---|---|\n",
       "| D9_profile | D9_profile  | control |\n",
       "| D99_profile | D99_profile | control |\n",
       "| D98_profile | D98_profile | control |\n",
       "| D97_profile | D97_profile | control |\n",
       "| D96_profile | D96_profile | control |\n",
       "| D95_profile | D95_profile | control |\n",
       "\n"
      ],
      "text/plain": [
       "            ID          Diagnosis\n",
       "D9_profile  D9_profile  control  \n",
       "D99_profile D99_profile control  \n",
       "D98_profile D98_profile control  \n",
       "D97_profile D97_profile control  \n",
       "D96_profile D96_profile control  \n",
       "D95_profile D95_profile control  "
      ]
     },
     "metadata": {},
     "output_type": "display_data"
    }
   ],
   "source": [
    "class(id_diagnosis) <- c(\"data.frame\")\n",
    "\n",
    "PC_coords <- ord_family$vectors\n",
    "\n",
    "head(id_diagnosis)"
   ]
  },
  {
   "cell_type": "code",
   "execution_count": 116,
   "metadata": {
    "vscode": {
     "languageId": "r"
    }
   },
   "outputs": [
    {
     "data": {
      "text/html": [
       "<table class=\"dataframe\">\n",
       "<caption>A data.frame: 3 x 4</caption>\n",
       "<thead>\n",
       "\t<tr><th></th><th scope=col>IDs</th><th scope=col>Axis.1</th><th scope=col>Axis.2</th><th scope=col>Axis.3</th></tr>\n",
       "\t<tr><th></th><th scope=col>&lt;chr&gt;</th><th scope=col>&lt;dbl&gt;</th><th scope=col>&lt;dbl&gt;</th><th scope=col>&lt;dbl&gt;</th></tr>\n",
       "</thead>\n",
       "<tbody>\n",
       "\t<tr><th scope=row>D9_profile</th><td>D9_profile </td><td>-0.1525980</td><td>-0.07106407</td><td> 0.000130203</td></tr>\n",
       "\t<tr><th scope=row>D99_profile</th><td>D99_profile</td><td>-0.2198335</td><td> 0.15713327</td><td> 0.013817484</td></tr>\n",
       "\t<tr><th scope=row>D98_profile</th><td>D98_profile</td><td>-0.1298013</td><td>-0.05297474</td><td>-0.054765595</td></tr>\n",
       "</tbody>\n",
       "</table>\n"
      ],
      "text/latex": [
       "A data.frame: 3 x 4\n",
       "\\begin{tabular}{r|llll}\n",
       "  & IDs & Axis.1 & Axis.2 & Axis.3\\\\\n",
       "  & <chr> & <dbl> & <dbl> & <dbl>\\\\\n",
       "\\hline\n",
       "\tD9\\_profile & D9\\_profile  & -0.1525980 & -0.07106407 &  0.000130203\\\\\n",
       "\tD99\\_profile & D99\\_profile & -0.2198335 &  0.15713327 &  0.013817484\\\\\n",
       "\tD98\\_profile & D98\\_profile & -0.1298013 & -0.05297474 & -0.054765595\\\\\n",
       "\\end{tabular}\n"
      ],
      "text/markdown": [
       "\n",
       "A data.frame: 3 x 4\n",
       "\n",
       "| <!--/--> | IDs &lt;chr&gt; | Axis.1 &lt;dbl&gt; | Axis.2 &lt;dbl&gt; | Axis.3 &lt;dbl&gt; |\n",
       "|---|---|---|---|---|\n",
       "| D9_profile | D9_profile  | -0.1525980 | -0.07106407 |  0.000130203 |\n",
       "| D99_profile | D99_profile | -0.2198335 |  0.15713327 |  0.013817484 |\n",
       "| D98_profile | D98_profile | -0.1298013 | -0.05297474 | -0.054765595 |\n",
       "\n"
      ],
      "text/plain": [
       "            IDs         Axis.1     Axis.2      Axis.3      \n",
       "D9_profile  D9_profile  -0.1525980 -0.07106407  0.000130203\n",
       "D99_profile D99_profile -0.2198335  0.15713327  0.013817484\n",
       "D98_profile D98_profile -0.1298013 -0.05297474 -0.054765595"
      ]
     },
     "metadata": {},
     "output_type": "display_data"
    }
   ],
   "source": [
    "ids_pcs <- data.frame(IDs=c(row.names(PC_coords)),PC_coords[,1:3])\n",
    "ids_pcs[1:3,]"
   ]
  },
  {
   "cell_type": "code",
   "execution_count": 117,
   "metadata": {
    "vscode": {
     "languageId": "r"
    }
   },
   "outputs": [
    {
     "data": {
      "text/html": [
       "<table class=\"dataframe\">\n",
       "<caption>A data.frame: 3 x 5</caption>\n",
       "<thead>\n",
       "\t<tr><th></th><th scope=col>ID</th><th scope=col>Diagnosis</th><th scope=col>Axis.1</th><th scope=col>Axis.2</th><th scope=col>Axis.3</th></tr>\n",
       "\t<tr><th></th><th scope=col>&lt;chr&gt;</th><th scope=col>&lt;chr&gt;</th><th scope=col>&lt;dbl&gt;</th><th scope=col>&lt;dbl&gt;</th><th scope=col>&lt;dbl&gt;</th></tr>\n",
       "</thead>\n",
       "<tbody>\n",
       "\t<tr><th scope=row>1</th><td>D9_profile </td><td>control</td><td>-0.1525980</td><td>-0.07106407</td><td> 0.000130203</td></tr>\n",
       "\t<tr><th scope=row>2</th><td>D99_profile</td><td>control</td><td>-0.2198335</td><td> 0.15713327</td><td> 0.013817484</td></tr>\n",
       "\t<tr><th scope=row>3</th><td>D98_profile</td><td>control</td><td>-0.1298013</td><td>-0.05297474</td><td>-0.054765595</td></tr>\n",
       "</tbody>\n",
       "</table>\n"
      ],
      "text/latex": [
       "A data.frame: 3 x 5\n",
       "\\begin{tabular}{r|lllll}\n",
       "  & ID & Diagnosis & Axis.1 & Axis.2 & Axis.3\\\\\n",
       "  & <chr> & <chr> & <dbl> & <dbl> & <dbl>\\\\\n",
       "\\hline\n",
       "\t1 & D9\\_profile  & control & -0.1525980 & -0.07106407 &  0.000130203\\\\\n",
       "\t2 & D99\\_profile & control & -0.2198335 &  0.15713327 &  0.013817484\\\\\n",
       "\t3 & D98\\_profile & control & -0.1298013 & -0.05297474 & -0.054765595\\\\\n",
       "\\end{tabular}\n"
      ],
      "text/markdown": [
       "\n",
       "A data.frame: 3 x 5\n",
       "\n",
       "| <!--/--> | ID &lt;chr&gt; | Diagnosis &lt;chr&gt; | Axis.1 &lt;dbl&gt; | Axis.2 &lt;dbl&gt; | Axis.3 &lt;dbl&gt; |\n",
       "|---|---|---|---|---|---|\n",
       "| 1 | D9_profile  | control | -0.1525980 | -0.07106407 |  0.000130203 |\n",
       "| 2 | D99_profile | control | -0.2198335 |  0.15713327 |  0.013817484 |\n",
       "| 3 | D98_profile | control | -0.1298013 | -0.05297474 | -0.054765595 |\n",
       "\n"
      ],
      "text/plain": [
       "  ID          Diagnosis Axis.1     Axis.2      Axis.3      \n",
       "1 D9_profile  control   -0.1525980 -0.07106407  0.000130203\n",
       "2 D99_profile control   -0.2198335  0.15713327  0.013817484\n",
       "3 D98_profile control   -0.1298013 -0.05297474 -0.054765595"
      ]
     },
     "metadata": {},
     "output_type": "display_data"
    }
   ],
   "source": [
    "PCs_status <- merge(x=id_diagnosis, y=ids_pcs, by.x='ID', by.y='IDs',sort=F)\n",
    "\n",
    "PCs_status[1:3,1:5]"
   ]
  },
  {
   "cell_type": "code",
   "execution_count": 118,
   "metadata": {
    "vscode": {
     "languageId": "r"
    }
   },
   "outputs": [],
   "source": [
    "PCs_status$Diagnosis <- as.factor(PCs_status$Diagnosis)"
   ]
  },
  {
   "cell_type": "code",
   "execution_count": 119,
   "metadata": {
    "vscode": {
     "languageId": "r"
    }
   },
   "outputs": [
    {
     "data": {
      "text/plain": [
       "\n",
       "Call:\n",
       "matchit(formula = Diagnosis ~ Axis.1 + Axis.2, data = PCs_status, \n",
       "    method = NULL, distance = \"glm\")\n",
       "\n",
       "Summary of Balance for All Data:\n",
       "         Means Treated Means Control Std. Mean Diff. Var. Ratio eCDF Mean\n",
       "distance        0.5309        0.5290          0.0859     1.0417    0.0556\n",
       "Axis.1         -0.0060        0.0067         -0.0408     0.9931    0.0306\n",
       "Axis.2          0.0047       -0.0053          0.0774     0.9690    0.0377\n",
       "         eCDF Max\n",
       "distance   0.1690\n",
       "Axis.1     0.1224\n",
       "Axis.2     0.0943\n",
       "\n",
       "Sample Sizes:\n",
       "          Control Treated\n",
       "All            47      53\n",
       "Matched        47      53\n",
       "Unmatched       0       0\n",
       "Discarded       0       0\n"
      ]
     },
     "metadata": {},
     "output_type": "display_data"
    }
   ],
   "source": [
    "# 1) Check Imbalance\n",
    "\n",
    "psom.out0 <- matchit(Diagnosis ~ Axis.1 + Axis.2, data = PCs_status, method = NULL, distance = \"glm\")\n",
    "\n",
    "# Checking balance prior to matching\n",
    "\n",
    "summary(psom.out0)\n",
    "# Quite well balanced"
   ]
  },
  {
   "cell_type": "markdown",
   "metadata": {},
   "source": [
    "###  NEAREST NEIGHBOR MATCHING - WITHOUT computing Propensity Score\n",
    "\n",
    "RAW Euclidean distances are used to find matches:"
   ]
  },
  {
   "cell_type": "code",
   "execution_count": 120,
   "metadata": {
    "vscode": {
     "languageId": "r"
    }
   },
   "outputs": [
    {
     "data": {
      "text/html": [
       "53"
      ],
      "text/latex": [
       "53"
      ],
      "text/markdown": [
       "53"
      ],
      "text/plain": [
       "[1] 53"
      ]
     },
     "metadata": {},
     "output_type": "display_data"
    }
   ],
   "source": [
    "psomNN_euclidean <- matchit(Diagnosis ~ Axis.1 + Axis.2, data = PCs_status, method = \"nearest\", distance = \"euclidean\", replace=T)\n",
    "\n",
    "nrow(psomNN_euclidean$match.matrix)"
   ]
  },
  {
   "cell_type": "code",
   "execution_count": 121,
   "metadata": {
    "vscode": {
     "languageId": "r"
    }
   },
   "outputs": [
    {
     "name": "stderr",
     "output_type": "stream",
     "text": [
      "Warning message:\n",
      "\"Fewer control units than treated units; not all treated units will get a match.\"\n"
     ]
    }
   ],
   "source": [
    "NODUPS_psomNN_euclidean <- matchit(Diagnosis ~ Axis.1 + Axis.2, data = PCs_status, method = \"nearest\", distance = \"euclidean\", replace=F)\n",
    "\n",
    "uniq_matches <- NODUPS_psomNN_euclidean$match.matrix[c(!is.na(NODUPS_psomNN_euclidean$match.matrix)),]"
   ]
  },
  {
   "cell_type": "markdown",
   "metadata": {},
   "source": [
    " extract pairs - NN on Euclidean distance based on PC1 and PC2\n",
    "\n",
    " psomNN_euclidean$match.matrix"
   ]
  },
  {
   "cell_type": "code",
   "execution_count": 122,
   "metadata": {
    "vscode": {
     "languageId": "r"
    }
   },
   "outputs": [
    {
     "data": {
      "text/html": [
       "53"
      ],
      "text/latex": [
       "53"
      ],
      "text/markdown": [
       "53"
      ],
      "text/plain": [
       "[1] 53"
      ]
     },
     "metadata": {},
     "output_type": "display_data"
    }
   ],
   "source": [
    "# RAW Euclidean distances are used to find matches:\n",
    "\n",
    "Euclid_NN_pair_index <- data.frame(treated=row.names(psomNN_euclidean$match.matrix), control=psomNN_euclidean$match.matrix)\n",
    "\n",
    "Uniq_Euclid_NN_pair_index <- data.frame(treated=names(uniq_matches), control=uniq_matches)\n",
    "\n",
    "nrow(Euclid_NN_pair_index)"
   ]
  },
  {
   "cell_type": "code",
   "execution_count": 123,
   "metadata": {
    "vscode": {
     "languageId": "r"
    }
   },
   "outputs": [
    {
     "data": {
      "text/html": [
       "<table class=\"dataframe\">\n",
       "<caption>A data.frame: 3 x 2</caption>\n",
       "<thead>\n",
       "\t<tr><th></th><th scope=col>treated</th><th scope=col>control</th></tr>\n",
       "\t<tr><th></th><th scope=col>&lt;chr&gt;</th><th scope=col>&lt;chr&gt;</th></tr>\n",
       "</thead>\n",
       "<tbody>\n",
       "\t<tr><th scope=row>21</th><td>21</td><td>34</td></tr>\n",
       "\t<tr><th scope=row>22</th><td>22</td><td>77</td></tr>\n",
       "\t<tr><th scope=row>24</th><td>24</td><td>34</td></tr>\n",
       "</tbody>\n",
       "</table>\n"
      ],
      "text/latex": [
       "A data.frame: 3 x 2\n",
       "\\begin{tabular}{r|ll}\n",
       "  & treated & control\\\\\n",
       "  & <chr> & <chr>\\\\\n",
       "\\hline\n",
       "\t21 & 21 & 34\\\\\n",
       "\t22 & 22 & 77\\\\\n",
       "\t24 & 24 & 34\\\\\n",
       "\\end{tabular}\n"
      ],
      "text/markdown": [
       "\n",
       "A data.frame: 3 x 2\n",
       "\n",
       "| <!--/--> | treated &lt;chr&gt; | control &lt;chr&gt; |\n",
       "|---|---|---|\n",
       "| 21 | 21 | 34 |\n",
       "| 22 | 22 | 77 |\n",
       "| 24 | 24 | 34 |\n",
       "\n"
      ],
      "text/plain": [
       "   treated control\n",
       "21 21      34     \n",
       "22 22      77     \n",
       "24 24      34     "
      ]
     },
     "metadata": {},
     "output_type": "display_data"
    },
    {
     "data": {
      "text/html": [
       "47"
      ],
      "text/latex": [
       "47"
      ],
      "text/markdown": [
       "47"
      ],
      "text/plain": [
       "[1] 47"
      ]
     },
     "metadata": {},
     "output_type": "display_data"
    }
   ],
   "source": [
    "Euclid_NN_pair_index[1:3,]\n",
    "nrow(Uniq_Euclid_NN_pair_index)\n"
   ]
  },
  {
   "cell_type": "code",
   "execution_count": 124,
   "metadata": {
    "vscode": {
     "languageId": "r"
    }
   },
   "outputs": [
    {
     "data": {
      "text/html": [
       "<table class=\"dataframe\">\n",
       "<caption>A data.frame: 3 x 2</caption>\n",
       "<thead>\n",
       "\t<tr><th></th><th scope=col>treated</th><th scope=col>control</th></tr>\n",
       "\t<tr><th></th><th scope=col>&lt;chr&gt;</th><th scope=col>&lt;chr&gt;</th></tr>\n",
       "</thead>\n",
       "<tbody>\n",
       "\t<tr><th scope=row>21</th><td>21</td><td>34</td></tr>\n",
       "\t<tr><th scope=row>22</th><td>22</td><td>77</td></tr>\n",
       "\t<tr><th scope=row>24</th><td>24</td><td>12</td></tr>\n",
       "</tbody>\n",
       "</table>\n"
      ],
      "text/latex": [
       "A data.frame: 3 x 2\n",
       "\\begin{tabular}{r|ll}\n",
       "  & treated & control\\\\\n",
       "  & <chr> & <chr>\\\\\n",
       "\\hline\n",
       "\t21 & 21 & 34\\\\\n",
       "\t22 & 22 & 77\\\\\n",
       "\t24 & 24 & 12\\\\\n",
       "\\end{tabular}\n"
      ],
      "text/markdown": [
       "\n",
       "A data.frame: 3 x 2\n",
       "\n",
       "| <!--/--> | treated &lt;chr&gt; | control &lt;chr&gt; |\n",
       "|---|---|---|\n",
       "| 21 | 21 | 34 |\n",
       "| 22 | 22 | 77 |\n",
       "| 24 | 24 | 12 |\n",
       "\n"
      ],
      "text/plain": [
       "   treated control\n",
       "21 21      34     \n",
       "22 22      77     \n",
       "24 24      12     "
      ]
     },
     "metadata": {},
     "output_type": "display_data"
    }
   ],
   "source": [
    "Uniq_Euclid_NN_pair_index[1:3,]"
   ]
  },
  {
   "cell_type": "code",
   "execution_count": 125,
   "metadata": {
    "vscode": {
     "languageId": "r"
    }
   },
   "outputs": [
    {
     "data": {
      "text/html": [
       "<table class=\"dataframe\">\n",
       "<caption>A matrix: 5 x 2 of type chr</caption>\n",
       "<tbody>\n",
       "\t<tr><td>D81_profile</td><td>D6_profile </td></tr>\n",
       "\t<tr><td>D80_profile</td><td>D30_profile</td></tr>\n",
       "\t<tr><td>D79_profile</td><td>D6_profile </td></tr>\n",
       "\t<tr><td>D78_profile</td><td>D85_profile</td></tr>\n",
       "\t<tr><td>D77_profile</td><td>D86_profile</td></tr>\n",
       "</tbody>\n",
       "</table>\n"
      ],
      "text/latex": [
       "A matrix: 5 x 2 of type chr\n",
       "\\begin{tabular}{ll}\n",
       "\t D81\\_profile & D6\\_profile \\\\\n",
       "\t D80\\_profile & D30\\_profile\\\\\n",
       "\t D79\\_profile & D6\\_profile \\\\\n",
       "\t D78\\_profile & D85\\_profile\\\\\n",
       "\t D77\\_profile & D86\\_profile\\\\\n",
       "\\end{tabular}\n"
      ],
      "text/markdown": [
       "\n",
       "A matrix: 5 x 2 of type chr\n",
       "\n",
       "| D81_profile | D6_profile  |\n",
       "| D80_profile | D30_profile |\n",
       "| D79_profile | D6_profile  |\n",
       "| D78_profile | D85_profile |\n",
       "| D77_profile | D86_profile |\n",
       "\n"
      ],
      "text/plain": [
       "     [,1]        [,2]       \n",
       "[1,] D81_profile D6_profile \n",
       "[2,] D80_profile D30_profile\n",
       "[3,] D79_profile D6_profile \n",
       "[4,] D78_profile D85_profile\n",
       "[5,] D77_profile D86_profile"
      ]
     },
     "metadata": {},
     "output_type": "display_data"
    }
   ],
   "source": [
    "# replace with sample IDs\n",
    "\n",
    "Eucl_NN_pairIDs=cbind(PCs_status$ID[as.numeric(Euclid_NN_pair_index$treated)],PCs_status$ID[as.numeric(Euclid_NN_pair_index$control)])\n",
    "\n",
    "Eucl_NN_pairIDs[1:5,]\n",
    "# All pairs are maximally close to each other!!!\n",
    "# Good solution"
   ]
  },
  {
   "cell_type": "code",
   "execution_count": 126,
   "metadata": {
    "vscode": {
     "languageId": "r"
    }
   },
   "outputs": [
    {
     "data": {
      "text/html": [
       "<table class=\"dataframe\">\n",
       "<caption>A matrix: 5 x 2 of type chr</caption>\n",
       "<tbody>\n",
       "\t<tr><td>D81_profile</td><td>D6_profile </td></tr>\n",
       "\t<tr><td>D80_profile</td><td>D30_profile</td></tr>\n",
       "\t<tr><td>D79_profile</td><td>D8_profile </td></tr>\n",
       "\t<tr><td>D78_profile</td><td>D85_profile</td></tr>\n",
       "\t<tr><td>D77_profile</td><td>D86_profile</td></tr>\n",
       "</tbody>\n",
       "</table>\n"
      ],
      "text/latex": [
       "A matrix: 5 x 2 of type chr\n",
       "\\begin{tabular}{ll}\n",
       "\t D81\\_profile & D6\\_profile \\\\\n",
       "\t D80\\_profile & D30\\_profile\\\\\n",
       "\t D79\\_profile & D8\\_profile \\\\\n",
       "\t D78\\_profile & D85\\_profile\\\\\n",
       "\t D77\\_profile & D86\\_profile\\\\\n",
       "\\end{tabular}\n"
      ],
      "text/markdown": [
       "\n",
       "A matrix: 5 x 2 of type chr\n",
       "\n",
       "| D81_profile | D6_profile  |\n",
       "| D80_profile | D30_profile |\n",
       "| D79_profile | D8_profile  |\n",
       "| D78_profile | D85_profile |\n",
       "| D77_profile | D86_profile |\n",
       "\n"
      ],
      "text/plain": [
       "     [,1]        [,2]       \n",
       "[1,] D81_profile D6_profile \n",
       "[2,] D80_profile D30_profile\n",
       "[3,] D79_profile D8_profile \n",
       "[4,] D78_profile D85_profile\n",
       "[5,] D77_profile D86_profile"
      ]
     },
     "metadata": {},
     "output_type": "display_data"
    }
   ],
   "source": [
    "Uniq_Eucl_NN_pairIDs<- cbind(PCs_status$ID[as.numeric(Uniq_Euclid_NN_pair_index$treated)],PCs_status$ID[as.numeric(Uniq_Euclid_NN_pair_index$control)])\n",
    "\n",
    "Uniq_Eucl_NN_pairIDs[1:5,]"
   ]
  },
  {
   "cell_type": "code",
   "execution_count": 127,
   "metadata": {
    "vscode": {
     "languageId": "r"
    }
   },
   "outputs": [
    {
     "data": {
      "text/html": [
       "<table class=\"dataframe\">\n",
       "<caption>A data.frame: 6 x 3</caption>\n",
       "<thead>\n",
       "\t<tr><th></th><th scope=col>SampleID</th><th scope=col>ppairs</th><th scope=col>group</th></tr>\n",
       "\t<tr><th></th><th scope=col>&lt;chr&gt;</th><th scope=col>&lt;chr&gt;</th><th scope=col>&lt;chr&gt;</th></tr>\n",
       "</thead>\n",
       "<tbody>\n",
       "\t<tr><th scope=row>1</th><td>D81_profile</td><td>pair_1</td><td>psoriasis</td></tr>\n",
       "\t<tr><th scope=row>2</th><td>D80_profile</td><td>pair_2</td><td>psoriasis</td></tr>\n",
       "\t<tr><th scope=row>3</th><td>D79_profile</td><td>pair_3</td><td>psoriasis</td></tr>\n",
       "\t<tr><th scope=row>4</th><td>D78_profile</td><td>pair_4</td><td>psoriasis</td></tr>\n",
       "\t<tr><th scope=row>5</th><td>D77_profile</td><td>pair_5</td><td>psoriasis</td></tr>\n",
       "\t<tr><th scope=row>6</th><td>D76_profile</td><td>pair_6</td><td>psoriasis</td></tr>\n",
       "</tbody>\n",
       "</table>\n"
      ],
      "text/latex": [
       "A data.frame: 6 x 3\n",
       "\\begin{tabular}{r|lll}\n",
       "  & SampleID & ppairs & group\\\\\n",
       "  & <chr> & <chr> & <chr>\\\\\n",
       "\\hline\n",
       "\t1 & D81\\_profile & pair\\_1 & psoriasis\\\\\n",
       "\t2 & D80\\_profile & pair\\_2 & psoriasis\\\\\n",
       "\t3 & D79\\_profile & pair\\_3 & psoriasis\\\\\n",
       "\t4 & D78\\_profile & pair\\_4 & psoriasis\\\\\n",
       "\t5 & D77\\_profile & pair\\_5 & psoriasis\\\\\n",
       "\t6 & D76\\_profile & pair\\_6 & psoriasis\\\\\n",
       "\\end{tabular}\n"
      ],
      "text/markdown": [
       "\n",
       "A data.frame: 6 x 3\n",
       "\n",
       "| <!--/--> | SampleID &lt;chr&gt; | ppairs &lt;chr&gt; | group &lt;chr&gt; |\n",
       "|---|---|---|---|\n",
       "| 1 | D81_profile | pair_1 | psoriasis |\n",
       "| 2 | D80_profile | pair_2 | psoriasis |\n",
       "| 3 | D79_profile | pair_3 | psoriasis |\n",
       "| 4 | D78_profile | pair_4 | psoriasis |\n",
       "| 5 | D77_profile | pair_5 | psoriasis |\n",
       "| 6 | D76_profile | pair_6 | psoriasis |\n",
       "\n"
      ],
      "text/plain": [
       "  SampleID    ppairs group    \n",
       "1 D81_profile pair_1 psoriasis\n",
       "2 D80_profile pair_2 psoriasis\n",
       "3 D79_profile pair_3 psoriasis\n",
       "4 D78_profile pair_4 psoriasis\n",
       "5 D77_profile pair_5 psoriasis\n",
       "6 D76_profile pair_6 psoriasis"
      ]
     },
     "metadata": {},
     "output_type": "display_data"
    }
   ],
   "source": [
    "# TRY with unique pairs:\n",
    "uniq_samples_by_pairs=data.frame(SampleID=c(Uniq_Eucl_NN_pairIDs[,1],Uniq_Eucl_NN_pairIDs[,2]), ppairs=c(paste(\"pair\",1:nrow(Uniq_Eucl_NN_pairIDs),sep=\"_\"),paste(\"pair\",1:nrow(Uniq_Eucl_NN_pairIDs),sep=\"_\")), group=c(rep(\"psoriasis\",length(Uniq_Eucl_NN_pairIDs[,1])),rep(\"control\",length(Uniq_Eucl_NN_pairIDs[,1]))))\n",
    "\n",
    "head(uniq_samples_by_pairs,6)\n"
   ]
  },
  {
   "cell_type": "code",
   "execution_count": 128,
   "metadata": {
    "vscode": {
     "languageId": "r"
    }
   },
   "outputs": [
    {
     "data": {
      "text/html": [
       "<table class=\"dataframe\">\n",
       "<caption>A data.frame: 6 x 3</caption>\n",
       "<thead>\n",
       "\t<tr><th></th><th scope=col>SampleID</th><th scope=col>ppairs</th><th scope=col>group</th></tr>\n",
       "\t<tr><th></th><th scope=col>&lt;chr&gt;</th><th scope=col>&lt;chr&gt;</th><th scope=col>&lt;chr&gt;</th></tr>\n",
       "</thead>\n",
       "<tbody>\n",
       "\t<tr><th scope=row>1</th><td>D81_profile</td><td>pair_1 </td><td>psoriasis</td></tr>\n",
       "\t<tr><th scope=row>48</th><td>D6_profile </td><td>pair_1 </td><td>control  </td></tr>\n",
       "\t<tr><th scope=row>10</th><td>D72_profile</td><td>pair_10</td><td>psoriasis</td></tr>\n",
       "\t<tr><th scope=row>57</th><td>D29_profile</td><td>pair_10</td><td>control  </td></tr>\n",
       "\t<tr><th scope=row>11</th><td>D71_profile</td><td>pair_11</td><td>psoriasis</td></tr>\n",
       "\t<tr><th scope=row>58</th><td>D17_profile</td><td>pair_11</td><td>control  </td></tr>\n",
       "</tbody>\n",
       "</table>\n"
      ],
      "text/latex": [
       "A data.frame: 6 x 3\n",
       "\\begin{tabular}{r|lll}\n",
       "  & SampleID & ppairs & group\\\\\n",
       "  & <chr> & <chr> & <chr>\\\\\n",
       "\\hline\n",
       "\t1 & D81\\_profile & pair\\_1  & psoriasis\\\\\n",
       "\t48 & D6\\_profile  & pair\\_1  & control  \\\\\n",
       "\t10 & D72\\_profile & pair\\_10 & psoriasis\\\\\n",
       "\t57 & D29\\_profile & pair\\_10 & control  \\\\\n",
       "\t11 & D71\\_profile & pair\\_11 & psoriasis\\\\\n",
       "\t58 & D17\\_profile & pair\\_11 & control  \\\\\n",
       "\\end{tabular}\n"
      ],
      "text/markdown": [
       "\n",
       "A data.frame: 6 x 3\n",
       "\n",
       "| <!--/--> | SampleID &lt;chr&gt; | ppairs &lt;chr&gt; | group &lt;chr&gt; |\n",
       "|---|---|---|---|\n",
       "| 1 | D81_profile | pair_1  | psoriasis |\n",
       "| 48 | D6_profile  | pair_1  | control   |\n",
       "| 10 | D72_profile | pair_10 | psoriasis |\n",
       "| 57 | D29_profile | pair_10 | control   |\n",
       "| 11 | D71_profile | pair_11 | psoriasis |\n",
       "| 58 | D17_profile | pair_11 | control   |\n",
       "\n"
      ],
      "text/plain": [
       "   SampleID    ppairs  group    \n",
       "1  D81_profile pair_1  psoriasis\n",
       "48 D6_profile  pair_1  control  \n",
       "10 D72_profile pair_10 psoriasis\n",
       "57 D29_profile pair_10 control  \n",
       "11 D71_profile pair_11 psoriasis\n",
       "58 D17_profile pair_11 control  "
      ]
     },
     "metadata": {},
     "output_type": "display_data"
    }
   ],
   "source": [
    "uniq_samples_by_pairs <-uniq_samples_by_pairs[order(uniq_samples_by_pairs$ppairs),]\n",
    "\n",
    "head(uniq_samples_by_pairs,6)"
   ]
  },
  {
   "cell_type": "code",
   "execution_count": 129,
   "metadata": {
    "vscode": {
     "languageId": "r"
    }
   },
   "outputs": [
    {
     "data": {
      "text/plain": [
       "phyloseq-class experiment-level object\n",
       "otu_table()   OTU Table:         [ 249 taxa and 100 samples ]\n",
       "sample_data() Sample Data:       [ 100 samples by 56 sample variables ]\n",
       "tax_table()   Taxonomy Table:    [ 249 taxa by 7 taxonomic ranks ]"
      ]
     },
     "metadata": {},
     "output_type": "display_data"
    }
   ],
   "source": [
    "comp_psq3 <- microbiome::transform(psq3, \"compositional\")\n",
    "comp_psq3"
   ]
  },
  {
   "cell_type": "code",
   "execution_count": 130,
   "metadata": {
    "vscode": {
     "languageId": "r"
    }
   },
   "outputs": [
    {
     "name": "stderr",
     "output_type": "stream",
     "text": [
      "Warning message in wilcox.test.default(x = DATA[[1L]], y = DATA[[2L]], ...):\n",
      "\"cannot compute exact p-value with zeroes\"\n",
      "Warning message in wilcox.test.default(x = DATA[[1L]], y = DATA[[2L]], ...):\n",
      "\"cannot compute exact p-value with zeroes\"\n",
      "Warning message in wilcox.test.default(x = DATA[[1L]], y = DATA[[2L]], ...):\n",
      "\"cannot compute exact p-value with zeroes\"\n",
      "Warning message in wilcox.test.default(x = DATA[[1L]], y = DATA[[2L]], ...):\n",
      "\"cannot compute exact p-value with zeroes\"\n",
      "Warning message in wilcox.test.default(x = DATA[[1L]], y = DATA[[2L]], ...):\n",
      "\"cannot compute exact p-value with zeroes\"\n",
      "Warning message in wilcox.test.default(x = DATA[[1L]], y = DATA[[2L]], ...):\n",
      "\"cannot compute exact p-value with zeroes\"\n",
      "Warning message in wilcox.test.default(x = DATA[[1L]], y = DATA[[2L]], ...):\n",
      "\"cannot compute exact p-value with zeroes\"\n",
      "Warning message in wilcox.test.default(x = DATA[[1L]], y = DATA[[2L]], ...):\n",
      "\"cannot compute exact p-value with zeroes\"\n",
      "Warning message in wilcox.test.default(x = DATA[[1L]], y = DATA[[2L]], ...):\n",
      "\"cannot compute exact p-value with zeroes\"\n",
      "Warning message in wilcox.test.default(x = DATA[[1L]], y = DATA[[2L]], ...):\n",
      "\"cannot compute exact p-value with zeroes\"\n",
      "Warning message in wilcox.test.default(x = DATA[[1L]], y = DATA[[2L]], ...):\n",
      "\"cannot compute exact p-value with zeroes\"\n",
      "Warning message in wilcox.test.default(x = DATA[[1L]], y = DATA[[2L]], ...):\n",
      "\"cannot compute exact p-value with zeroes\"\n",
      "Warning message in wilcox.test.default(x = DATA[[1L]], y = DATA[[2L]], ...):\n",
      "\"cannot compute exact p-value with zeroes\"\n",
      "Warning message in wilcox.test.default(x = DATA[[1L]], y = DATA[[2L]], ...):\n",
      "\"cannot compute exact p-value with zeroes\"\n",
      "Warning message in wilcox.test.default(x = DATA[[1L]], y = DATA[[2L]], ...):\n",
      "\"cannot compute exact p-value with zeroes\"\n",
      "Warning message in wilcox.test.default(x = DATA[[1L]], y = DATA[[2L]], ...):\n",
      "\"cannot compute exact p-value with zeroes\"\n",
      "Warning message in wilcox.test.default(x = DATA[[1L]], y = DATA[[2L]], ...):\n",
      "\"cannot compute exact p-value with zeroes\"\n",
      "Warning message in wilcox.test.default(x = DATA[[1L]], y = DATA[[2L]], ...):\n",
      "\"cannot compute exact p-value with zeroes\"\n",
      "Warning message in wilcox.test.default(x = DATA[[1L]], y = DATA[[2L]], ...):\n",
      "\"cannot compute exact p-value with zeroes\"\n",
      "Warning message in wilcox.test.default(x = DATA[[1L]], y = DATA[[2L]], ...):\n",
      "\"cannot compute exact p-value with zeroes\"\n",
      "Warning message in wilcox.test.default(x = DATA[[1L]], y = DATA[[2L]], ...):\n",
      "\"cannot compute exact p-value with zeroes\"\n",
      "Warning message in wilcox.test.default(x = DATA[[1L]], y = DATA[[2L]], ...):\n",
      "\"cannot compute exact p-value with zeroes\"\n",
      "Warning message in wilcox.test.default(x = DATA[[1L]], y = DATA[[2L]], ...):\n",
      "\"cannot compute exact p-value with zeroes\"\n",
      "Warning message in wilcox.test.default(x = DATA[[1L]], y = DATA[[2L]], ...):\n",
      "\"cannot compute exact p-value with zeroes\"\n",
      "Warning message in wilcox.test.default(x = DATA[[1L]], y = DATA[[2L]], ...):\n",
      "\"cannot compute exact p-value with zeroes\"\n",
      "Warning message in wilcox.test.default(x = DATA[[1L]], y = DATA[[2L]], ...):\n",
      "\"cannot compute exact p-value with zeroes\"\n",
      "Warning message in wilcox.test.default(x = DATA[[1L]], y = DATA[[2L]], ...):\n",
      "\"cannot compute exact p-value with zeroes\"\n",
      "Warning message in wilcox.test.default(x = DATA[[1L]], y = DATA[[2L]], ...):\n",
      "\"cannot compute exact p-value with zeroes\"\n",
      "Warning message in wilcox.test.default(x = DATA[[1L]], y = DATA[[2L]], ...):\n",
      "\"cannot compute exact p-value with zeroes\"\n",
      "Warning message in wilcox.test.default(x = DATA[[1L]], y = DATA[[2L]], ...):\n",
      "\"cannot compute exact p-value with zeroes\"\n",
      "Warning message in wilcox.test.default(x = DATA[[1L]], y = DATA[[2L]], ...):\n",
      "\"cannot compute exact p-value with zeroes\"\n",
      "Warning message in wilcox.test.default(x = DATA[[1L]], y = DATA[[2L]], ...):\n",
      "\"cannot compute exact p-value with zeroes\"\n",
      "Warning message in wilcox.test.default(x = DATA[[1L]], y = DATA[[2L]], ...):\n",
      "\"cannot compute exact p-value with zeroes\"\n",
      "Warning message in wilcox.test.default(x = DATA[[1L]], y = DATA[[2L]], ...):\n",
      "\"cannot compute exact p-value with zeroes\"\n",
      "Warning message in wilcox.test.default(x = DATA[[1L]], y = DATA[[2L]], ...):\n",
      "\"cannot compute exact p-value with zeroes\"\n",
      "Warning message in wilcox.test.default(x = DATA[[1L]], y = DATA[[2L]], ...):\n",
      "\"cannot compute exact p-value with zeroes\"\n",
      "Warning message in wilcox.test.default(x = DATA[[1L]], y = DATA[[2L]], ...):\n",
      "\"cannot compute exact p-value with zeroes\"\n",
      "Warning message in wilcox.test.default(x = DATA[[1L]], y = DATA[[2L]], ...):\n",
      "\"cannot compute exact p-value with zeroes\"\n",
      "Warning message in wilcox.test.default(x = DATA[[1L]], y = DATA[[2L]], ...):\n",
      "\"cannot compute exact p-value with zeroes\"\n",
      "Warning message in wilcox.test.default(x = DATA[[1L]], y = DATA[[2L]], ...):\n",
      "\"cannot compute exact p-value with zeroes\"\n",
      "Warning message in wilcox.test.default(x = DATA[[1L]], y = DATA[[2L]], ...):\n",
      "\"cannot compute exact p-value with zeroes\"\n",
      "Warning message in wilcox.test.default(x = DATA[[1L]], y = DATA[[2L]], ...):\n",
      "\"cannot compute exact p-value with zeroes\"\n",
      "Warning message in wilcox.test.default(x = DATA[[1L]], y = DATA[[2L]], ...):\n",
      "\"cannot compute exact p-value with zeroes\"\n",
      "Warning message in wilcox.test.default(x = DATA[[1L]], y = DATA[[2L]], ...):\n",
      "\"cannot compute exact p-value with zeroes\"\n",
      "Warning message in wilcox.test.default(x = DATA[[1L]], y = DATA[[2L]], ...):\n",
      "\"cannot compute exact p-value with zeroes\"\n",
      "Warning message in wilcox.test.default(x = DATA[[1L]], y = DATA[[2L]], ...):\n",
      "\"cannot compute exact p-value with zeroes\"\n",
      "Warning message in wilcox.test.default(x = DATA[[1L]], y = DATA[[2L]], ...):\n",
      "\"cannot compute exact p-value with zeroes\"\n",
      "Warning message in wilcox.test.default(x = DATA[[1L]], y = DATA[[2L]], ...):\n",
      "\"cannot compute exact p-value with zeroes\"\n",
      "Warning message in wilcox.test.default(x = DATA[[1L]], y = DATA[[2L]], ...):\n",
      "\"cannot compute exact p-value with zeroes\"\n",
      "Warning message in wilcox.test.default(x = DATA[[1L]], y = DATA[[2L]], ...):\n",
      "\"cannot compute exact p-value with zeroes\"\n",
      "Warning message in wilcox.test.default(x = DATA[[1L]], y = DATA[[2L]], ...):\n",
      "\"cannot compute exact p-value with zeroes\"\n",
      "Warning message in wilcox.test.default(x = DATA[[1L]], y = DATA[[2L]], ...):\n",
      "\"cannot compute exact p-value with zeroes\"\n",
      "Warning message in wilcox.test.default(x = DATA[[1L]], y = DATA[[2L]], ...):\n",
      "\"cannot compute exact p-value with zeroes\"\n",
      "Warning message in wilcox.test.default(x = DATA[[1L]], y = DATA[[2L]], ...):\n",
      "\"cannot compute exact p-value with zeroes\"\n",
      "Warning message in wilcox.test.default(x = DATA[[1L]], y = DATA[[2L]], ...):\n",
      "\"cannot compute exact p-value with zeroes\"\n",
      "Warning message in wilcox.test.default(x = DATA[[1L]], y = DATA[[2L]], ...):\n",
      "\"cannot compute exact p-value with zeroes\"\n",
      "Warning message in wilcox.test.default(x = DATA[[1L]], y = DATA[[2L]], ...):\n",
      "\"cannot compute exact p-value with zeroes\"\n",
      "Warning message in wilcox.test.default(x = DATA[[1L]], y = DATA[[2L]], ...):\n",
      "\"cannot compute exact p-value with zeroes\"\n",
      "Warning message in wilcox.test.default(x = DATA[[1L]], y = DATA[[2L]], ...):\n",
      "\"cannot compute exact p-value with zeroes\"\n",
      "Warning message in wilcox.test.default(x = DATA[[1L]], y = DATA[[2L]], ...):\n",
      "\"cannot compute exact p-value with zeroes\"\n",
      "Warning message in wilcox.test.default(x = DATA[[1L]], y = DATA[[2L]], ...):\n",
      "\"cannot compute exact p-value with zeroes\"\n",
      "Warning message in wilcox.test.default(x = DATA[[1L]], y = DATA[[2L]], ...):\n",
      "\"cannot compute exact p-value with zeroes\"\n",
      "Warning message in wilcox.test.default(x = DATA[[1L]], y = DATA[[2L]], ...):\n",
      "\"cannot compute exact p-value with zeroes\"\n",
      "Warning message in wilcox.test.default(x = DATA[[1L]], y = DATA[[2L]], ...):\n",
      "\"cannot compute exact p-value with zeroes\"\n",
      "Warning message in wilcox.test.default(x = DATA[[1L]], y = DATA[[2L]], ...):\n",
      "\"cannot compute exact p-value with zeroes\"\n",
      "Warning message in wilcox.test.default(x = DATA[[1L]], y = DATA[[2L]], ...):\n",
      "\"cannot compute exact p-value with zeroes\"\n",
      "Warning message in wilcox.test.default(x = DATA[[1L]], y = DATA[[2L]], ...):\n",
      "\"cannot compute exact p-value with zeroes\"\n",
      "Warning message in wilcox.test.default(x = DATA[[1L]], y = DATA[[2L]], ...):\n",
      "\"cannot compute exact p-value with zeroes\"\n",
      "Warning message in wilcox.test.default(x = DATA[[1L]], y = DATA[[2L]], ...):\n",
      "\"cannot compute exact p-value with zeroes\"\n",
      "Warning message in wilcox.test.default(x = DATA[[1L]], y = DATA[[2L]], ...):\n",
      "\"cannot compute exact p-value with zeroes\"\n",
      "Warning message in wilcox.test.default(x = DATA[[1L]], y = DATA[[2L]], ...):\n",
      "\"cannot compute exact p-value with zeroes\"\n",
      "Warning message in wilcox.test.default(x = DATA[[1L]], y = DATA[[2L]], ...):\n",
      "\"cannot compute exact p-value with zeroes\"\n",
      "Warning message in wilcox.test.default(x = DATA[[1L]], y = DATA[[2L]], ...):\n",
      "\"cannot compute exact p-value with zeroes\"\n",
      "Warning message in wilcox.test.default(x = DATA[[1L]], y = DATA[[2L]], ...):\n",
      "\"cannot compute exact p-value with zeroes\"\n",
      "Warning message in wilcox.test.default(x = DATA[[1L]], y = DATA[[2L]], ...):\n",
      "\"cannot compute exact p-value with zeroes\"\n",
      "Warning message in wilcox.test.default(x = DATA[[1L]], y = DATA[[2L]], ...):\n",
      "\"cannot compute exact p-value with zeroes\"\n",
      "Warning message in wilcox.test.default(x = DATA[[1L]], y = DATA[[2L]], ...):\n",
      "\"cannot compute exact p-value with zeroes\"\n",
      "Warning message in wilcox.test.default(x = DATA[[1L]], y = DATA[[2L]], ...):\n",
      "\"cannot compute exact p-value with zeroes\"\n",
      "Warning message in wilcox.test.default(x = DATA[[1L]], y = DATA[[2L]], ...):\n",
      "\"cannot compute exact p-value with zeroes\"\n",
      "Warning message in wilcox.test.default(x = DATA[[1L]], y = DATA[[2L]], ...):\n",
      "\"cannot compute exact p-value with zeroes\"\n",
      "Warning message in wilcox.test.default(x = DATA[[1L]], y = DATA[[2L]], ...):\n",
      "\"cannot compute exact p-value with zeroes\"\n",
      "Warning message in wilcox.test.default(x = DATA[[1L]], y = DATA[[2L]], ...):\n",
      "\"cannot compute exact p-value with zeroes\"\n",
      "Warning message in wilcox.test.default(x = DATA[[1L]], y = DATA[[2L]], ...):\n",
      "\"cannot compute exact p-value with zeroes\"\n",
      "Warning message in wilcox.test.default(x = DATA[[1L]], y = DATA[[2L]], ...):\n",
      "\"cannot compute exact p-value with zeroes\"\n",
      "Warning message in wilcox.test.default(x = DATA[[1L]], y = DATA[[2L]], ...):\n",
      "\"cannot compute exact p-value with zeroes\"\n",
      "Warning message in wilcox.test.default(x = DATA[[1L]], y = DATA[[2L]], ...):\n",
      "\"cannot compute exact p-value with zeroes\"\n",
      "Warning message in wilcox.test.default(x = DATA[[1L]], y = DATA[[2L]], ...):\n",
      "\"cannot compute exact p-value with zeroes\"\n",
      "Warning message in wilcox.test.default(x = DATA[[1L]], y = DATA[[2L]], ...):\n",
      "\"cannot compute exact p-value with zeroes\"\n",
      "Warning message in wilcox.test.default(x = DATA[[1L]], y = DATA[[2L]], ...):\n",
      "\"cannot compute exact p-value with zeroes\"\n",
      "Warning message in wilcox.test.default(x = DATA[[1L]], y = DATA[[2L]], ...):\n",
      "\"cannot compute exact p-value with zeroes\"\n",
      "Warning message in wilcox.test.default(x = DATA[[1L]], y = DATA[[2L]], ...):\n",
      "\"cannot compute exact p-value with zeroes\"\n",
      "Warning message in wilcox.test.default(x = DATA[[1L]], y = DATA[[2L]], ...):\n",
      "\"cannot compute exact p-value with zeroes\"\n",
      "Warning message in wilcox.test.default(x = DATA[[1L]], y = DATA[[2L]], ...):\n",
      "\"cannot compute exact p-value with zeroes\"\n",
      "Warning message in wilcox.test.default(x = DATA[[1L]], y = DATA[[2L]], ...):\n",
      "\"cannot compute exact p-value with zeroes\"\n",
      "Warning message in wilcox.test.default(x = DATA[[1L]], y = DATA[[2L]], ...):\n",
      "\"cannot compute exact p-value with zeroes\"\n",
      "Warning message in wilcox.test.default(x = DATA[[1L]], y = DATA[[2L]], ...):\n",
      "\"cannot compute exact p-value with zeroes\"\n",
      "Warning message in wilcox.test.default(x = DATA[[1L]], y = DATA[[2L]], ...):\n",
      "\"cannot compute exact p-value with zeroes\"\n",
      "Warning message in wilcox.test.default(x = DATA[[1L]], y = DATA[[2L]], ...):\n",
      "\"cannot compute exact p-value with zeroes\"\n",
      "Warning message in wilcox.test.default(x = DATA[[1L]], y = DATA[[2L]], ...):\n",
      "\"cannot compute exact p-value with zeroes\"\n",
      "Warning message in wilcox.test.default(x = DATA[[1L]], y = DATA[[2L]], ...):\n",
      "\"cannot compute exact p-value with zeroes\"\n",
      "Warning message in wilcox.test.default(x = DATA[[1L]], y = DATA[[2L]], ...):\n",
      "\"cannot compute exact p-value with zeroes\"\n",
      "Warning message in wilcox.test.default(x = DATA[[1L]], y = DATA[[2L]], ...):\n",
      "\"cannot compute exact p-value with zeroes\"\n",
      "Warning message in wilcox.test.default(x = DATA[[1L]], y = DATA[[2L]], ...):\n",
      "\"cannot compute exact p-value with zeroes\"\n",
      "Warning message in wilcox.test.default(x = DATA[[1L]], y = DATA[[2L]], ...):\n",
      "\"cannot compute exact p-value with zeroes\"\n",
      "Warning message in wilcox.test.default(x = DATA[[1L]], y = DATA[[2L]], ...):\n",
      "\"cannot compute exact p-value with zeroes\"\n",
      "Warning message in wilcox.test.default(x = DATA[[1L]], y = DATA[[2L]], ...):\n",
      "\"cannot compute exact p-value with zeroes\"\n",
      "Warning message in wilcox.test.default(x = DATA[[1L]], y = DATA[[2L]], ...):\n",
      "\"cannot compute exact p-value with zeroes\"\n",
      "Warning message in wilcox.test.default(x = DATA[[1L]], y = DATA[[2L]], ...):\n",
      "\"cannot compute exact p-value with zeroes\"\n",
      "Warning message in wilcox.test.default(x = DATA[[1L]], y = DATA[[2L]], ...):\n",
      "\"cannot compute exact p-value with zeroes\"\n",
      "Warning message in wilcox.test.default(x = DATA[[1L]], y = DATA[[2L]], ...):\n",
      "\"cannot compute exact p-value with zeroes\"\n",
      "Warning message in wilcox.test.default(x = DATA[[1L]], y = DATA[[2L]], ...):\n",
      "\"cannot compute exact p-value with zeroes\"\n",
      "Warning message in wilcox.test.default(x = DATA[[1L]], y = DATA[[2L]], ...):\n",
      "\"cannot compute exact p-value with zeroes\"\n",
      "Warning message in wilcox.test.default(x = DATA[[1L]], y = DATA[[2L]], ...):\n",
      "\"cannot compute exact p-value with zeroes\"\n",
      "Warning message in wilcox.test.default(x = DATA[[1L]], y = DATA[[2L]], ...):\n",
      "\"cannot compute exact p-value with zeroes\"\n",
      "Warning message in wilcox.test.default(x = DATA[[1L]], y = DATA[[2L]], ...):\n",
      "\"cannot compute exact p-value with zeroes\"\n",
      "Warning message in wilcox.test.default(x = DATA[[1L]], y = DATA[[2L]], ...):\n",
      "\"cannot compute exact p-value with zeroes\"\n",
      "Warning message in wilcox.test.default(x = DATA[[1L]], y = DATA[[2L]], ...):\n",
      "\"cannot compute exact p-value with zeroes\"\n",
      "Warning message in wilcox.test.default(x = DATA[[1L]], y = DATA[[2L]], ...):\n",
      "\"cannot compute exact p-value with zeroes\"\n",
      "Warning message in wilcox.test.default(x = DATA[[1L]], y = DATA[[2L]], ...):\n",
      "\"cannot compute exact p-value with zeroes\"\n",
      "Warning message in wilcox.test.default(x = DATA[[1L]], y = DATA[[2L]], ...):\n",
      "\"cannot compute exact p-value with zeroes\"\n",
      "Warning message in wilcox.test.default(x = DATA[[1L]], y = DATA[[2L]], ...):\n",
      "\"cannot compute exact p-value with zeroes\"\n",
      "Warning message in wilcox.test.default(x = DATA[[1L]], y = DATA[[2L]], ...):\n",
      "\"cannot compute exact p-value with zeroes\"\n",
      "Warning message in wilcox.test.default(x = DATA[[1L]], y = DATA[[2L]], ...):\n",
      "\"cannot compute exact p-value with zeroes\"\n",
      "Warning message in wilcox.test.default(x = DATA[[1L]], y = DATA[[2L]], ...):\n",
      "\"cannot compute exact p-value with zeroes\"\n",
      "Warning message in wilcox.test.default(x = DATA[[1L]], y = DATA[[2L]], ...):\n",
      "\"cannot compute exact p-value with zeroes\"\n",
      "Warning message in wilcox.test.default(x = DATA[[1L]], y = DATA[[2L]], ...):\n",
      "\"cannot compute exact p-value with zeroes\"\n",
      "Warning message in wilcox.test.default(x = DATA[[1L]], y = DATA[[2L]], ...):\n",
      "\"cannot compute exact p-value with zeroes\"\n",
      "Warning message in wilcox.test.default(x = DATA[[1L]], y = DATA[[2L]], ...):\n",
      "\"cannot compute exact p-value with zeroes\"\n",
      "Warning message in wilcox.test.default(x = DATA[[1L]], y = DATA[[2L]], ...):\n",
      "\"cannot compute exact p-value with zeroes\"\n",
      "Warning message in wilcox.test.default(x = DATA[[1L]], y = DATA[[2L]], ...):\n",
      "\"cannot compute exact p-value with zeroes\"\n",
      "Warning message in wilcox.test.default(x = DATA[[1L]], y = DATA[[2L]], ...):\n",
      "\"cannot compute exact p-value with zeroes\"\n",
      "Warning message in wilcox.test.default(x = DATA[[1L]], y = DATA[[2L]], ...):\n",
      "\"cannot compute exact p-value with zeroes\"\n",
      "Warning message in wilcox.test.default(x = DATA[[1L]], y = DATA[[2L]], ...):\n",
      "\"cannot compute exact p-value with zeroes\"\n",
      "Warning message in wilcox.test.default(x = DATA[[1L]], y = DATA[[2L]], ...):\n",
      "\"cannot compute exact p-value with zeroes\"\n",
      "Warning message in wilcox.test.default(x = DATA[[1L]], y = DATA[[2L]], ...):\n",
      "\"cannot compute exact p-value with zeroes\"\n",
      "Warning message in wilcox.test.default(x = DATA[[1L]], y = DATA[[2L]], ...):\n",
      "\"cannot compute exact p-value with zeroes\"\n",
      "Warning message in wilcox.test.default(x = DATA[[1L]], y = DATA[[2L]], ...):\n",
      "\"cannot compute exact p-value with zeroes\"\n",
      "Warning message in wilcox.test.default(x = DATA[[1L]], y = DATA[[2L]], ...):\n",
      "\"cannot compute exact p-value with zeroes\"\n",
      "Warning message in wilcox.test.default(x = DATA[[1L]], y = DATA[[2L]], ...):\n",
      "\"cannot compute exact p-value with zeroes\"\n",
      "Warning message in wilcox.test.default(x = DATA[[1L]], y = DATA[[2L]], ...):\n",
      "\"cannot compute exact p-value with zeroes\"\n",
      "Warning message in wilcox.test.default(x = DATA[[1L]], y = DATA[[2L]], ...):\n",
      "\"cannot compute exact p-value with zeroes\"\n",
      "Warning message in wilcox.test.default(x = DATA[[1L]], y = DATA[[2L]], ...):\n",
      "\"cannot compute exact p-value with zeroes\"\n",
      "Warning message in wilcox.test.default(x = DATA[[1L]], y = DATA[[2L]], ...):\n",
      "\"cannot compute exact p-value with zeroes\"\n",
      "Warning message in wilcox.test.default(x = DATA[[1L]], y = DATA[[2L]], ...):\n",
      "\"cannot compute exact p-value with zeroes\"\n",
      "Warning message in wilcox.test.default(x = DATA[[1L]], y = DATA[[2L]], ...):\n",
      "\"cannot compute exact p-value with zeroes\"\n",
      "Warning message in wilcox.test.default(x = DATA[[1L]], y = DATA[[2L]], ...):\n",
      "\"cannot compute exact p-value with zeroes\"\n",
      "Warning message in wilcox.test.default(x = DATA[[1L]], y = DATA[[2L]], ...):\n",
      "\"cannot compute exact p-value with zeroes\"\n",
      "Warning message in wilcox.test.default(x = DATA[[1L]], y = DATA[[2L]], ...):\n",
      "\"cannot compute exact p-value with zeroes\"\n",
      "Warning message in wilcox.test.default(x = DATA[[1L]], y = DATA[[2L]], ...):\n",
      "\"cannot compute exact p-value with zeroes\"\n",
      "Warning message in wilcox.test.default(x = DATA[[1L]], y = DATA[[2L]], ...):\n",
      "\"cannot compute exact p-value with zeroes\"\n",
      "Warning message in wilcox.test.default(x = DATA[[1L]], y = DATA[[2L]], ...):\n",
      "\"cannot compute exact p-value with zeroes\"\n",
      "Warning message in wilcox.test.default(x = DATA[[1L]], y = DATA[[2L]], ...):\n",
      "\"cannot compute exact p-value with zeroes\"\n",
      "Warning message in wilcox.test.default(x = DATA[[1L]], y = DATA[[2L]], ...):\n",
      "\"cannot compute exact p-value with zeroes\"\n",
      "Warning message in wilcox.test.default(x = DATA[[1L]], y = DATA[[2L]], ...):\n",
      "\"cannot compute exact p-value with zeroes\"\n",
      "Warning message in wilcox.test.default(x = DATA[[1L]], y = DATA[[2L]], ...):\n",
      "\"cannot compute exact p-value with zeroes\"\n",
      "Warning message in wilcox.test.default(x = DATA[[1L]], y = DATA[[2L]], ...):\n",
      "\"cannot compute exact p-value with zeroes\"\n",
      "Warning message in wilcox.test.default(x = DATA[[1L]], y = DATA[[2L]], ...):\n",
      "\"cannot compute exact p-value with zeroes\"\n",
      "Warning message in wilcox.test.default(x = DATA[[1L]], y = DATA[[2L]], ...):\n",
      "\"cannot compute exact p-value with zeroes\"\n",
      "Warning message in wilcox.test.default(x = DATA[[1L]], y = DATA[[2L]], ...):\n",
      "\"cannot compute exact p-value with zeroes\"\n",
      "Warning message in wilcox.test.default(x = DATA[[1L]], y = DATA[[2L]], ...):\n",
      "\"cannot compute exact p-value with zeroes\"\n",
      "Warning message in wilcox.test.default(x = DATA[[1L]], y = DATA[[2L]], ...):\n",
      "\"cannot compute exact p-value with zeroes\"\n",
      "Warning message in wilcox.test.default(x = DATA[[1L]], y = DATA[[2L]], ...):\n",
      "\"cannot compute exact p-value with zeroes\"\n",
      "Warning message in wilcox.test.default(x = DATA[[1L]], y = DATA[[2L]], ...):\n",
      "\"cannot compute exact p-value with zeroes\"\n",
      "Warning message in wilcox.test.default(x = DATA[[1L]], y = DATA[[2L]], ...):\n",
      "\"cannot compute exact p-value with zeroes\"\n",
      "Warning message in wilcox.test.default(x = DATA[[1L]], y = DATA[[2L]], ...):\n",
      "\"cannot compute exact p-value with zeroes\"\n",
      "Warning message in wilcox.test.default(x = DATA[[1L]], y = DATA[[2L]], ...):\n",
      "\"cannot compute exact p-value with zeroes\"\n",
      "Warning message in wilcox.test.default(x = DATA[[1L]], y = DATA[[2L]], ...):\n",
      "\"cannot compute exact p-value with zeroes\"\n",
      "Warning message in wilcox.test.default(x = DATA[[1L]], y = DATA[[2L]], ...):\n",
      "\"cannot compute exact p-value with zeroes\"\n",
      "Warning message in wilcox.test.default(x = DATA[[1L]], y = DATA[[2L]], ...):\n",
      "\"cannot compute exact p-value with zeroes\"\n",
      "Warning message in wilcox.test.default(x = DATA[[1L]], y = DATA[[2L]], ...):\n",
      "\"cannot compute exact p-value with zeroes\"\n",
      "Warning message in wilcox.test.default(x = DATA[[1L]], y = DATA[[2L]], ...):\n",
      "\"cannot compute exact p-value with zeroes\"\n",
      "Warning message in wilcox.test.default(x = DATA[[1L]], y = DATA[[2L]], ...):\n",
      "\"cannot compute exact p-value with zeroes\"\n",
      "Warning message in wilcox.test.default(x = DATA[[1L]], y = DATA[[2L]], ...):\n",
      "\"cannot compute exact p-value with zeroes\"\n",
      "Warning message in wilcox.test.default(x = DATA[[1L]], y = DATA[[2L]], ...):\n",
      "\"cannot compute exact p-value with zeroes\"\n",
      "Warning message in wilcox.test.default(x = DATA[[1L]], y = DATA[[2L]], ...):\n",
      "\"cannot compute exact p-value with zeroes\"\n",
      "Warning message in wilcox.test.default(x = DATA[[1L]], y = DATA[[2L]], ...):\n",
      "\"cannot compute exact p-value with zeroes\"\n",
      "Warning message in wilcox.test.default(x = DATA[[1L]], y = DATA[[2L]], ...):\n",
      "\"cannot compute exact p-value with zeroes\"\n",
      "Warning message in wilcox.test.default(x = DATA[[1L]], y = DATA[[2L]], ...):\n",
      "\"cannot compute exact p-value with zeroes\"\n",
      "Warning message in wilcox.test.default(x = DATA[[1L]], y = DATA[[2L]], ...):\n",
      "\"cannot compute exact p-value with zeroes\"\n",
      "Warning message in wilcox.test.default(x = DATA[[1L]], y = DATA[[2L]], ...):\n",
      "\"cannot compute exact p-value with zeroes\"\n",
      "Warning message in wilcox.test.default(x = DATA[[1L]], y = DATA[[2L]], ...):\n",
      "\"cannot compute exact p-value with zeroes\"\n",
      "Warning message in wilcox.test.default(x = DATA[[1L]], y = DATA[[2L]], ...):\n",
      "\"cannot compute exact p-value with zeroes\"\n",
      "Warning message in wilcox.test.default(x = DATA[[1L]], y = DATA[[2L]], ...):\n",
      "\"cannot compute exact p-value with zeroes\"\n",
      "Warning message in wilcox.test.default(x = DATA[[1L]], y = DATA[[2L]], ...):\n",
      "\"cannot compute exact p-value with zeroes\"\n",
      "Warning message in wilcox.test.default(x = DATA[[1L]], y = DATA[[2L]], ...):\n",
      "\"cannot compute exact p-value with zeroes\"\n",
      "Warning message in wilcox.test.default(x = DATA[[1L]], y = DATA[[2L]], ...):\n",
      "\"cannot compute exact p-value with zeroes\"\n",
      "Warning message in wilcox.test.default(x = DATA[[1L]], y = DATA[[2L]], ...):\n",
      "\"cannot compute exact p-value with zeroes\"\n",
      "Warning message in wilcox.test.default(x = DATA[[1L]], y = DATA[[2L]], ...):\n",
      "\"cannot compute exact p-value with zeroes\"\n",
      "Warning message in wilcox.test.default(x = DATA[[1L]], y = DATA[[2L]], ...):\n",
      "\"cannot compute exact p-value with zeroes\"\n",
      "Warning message in wilcox.test.default(x = DATA[[1L]], y = DATA[[2L]], ...):\n",
      "\"cannot compute exact p-value with zeroes\"\n",
      "Warning message in wilcox.test.default(x = DATA[[1L]], y = DATA[[2L]], ...):\n",
      "\"cannot compute exact p-value with zeroes\"\n",
      "Warning message in wilcox.test.default(x = DATA[[1L]], y = DATA[[2L]], ...):\n",
      "\"cannot compute exact p-value with zeroes\"\n",
      "Warning message in wilcox.test.default(x = DATA[[1L]], y = DATA[[2L]], ...):\n",
      "\"cannot compute exact p-value with zeroes\"\n",
      "Warning message in wilcox.test.default(x = DATA[[1L]], y = DATA[[2L]], ...):\n",
      "\"cannot compute exact p-value with zeroes\"\n",
      "Warning message in wilcox.test.default(x = DATA[[1L]], y = DATA[[2L]], ...):\n",
      "\"cannot compute exact p-value with zeroes\"\n",
      "Warning message in wilcox.test.default(x = DATA[[1L]], y = DATA[[2L]], ...):\n",
      "\"cannot compute exact p-value with zeroes\"\n",
      "Warning message in wilcox.test.default(x = DATA[[1L]], y = DATA[[2L]], ...):\n",
      "\"cannot compute exact p-value with zeroes\"\n",
      "Warning message in wilcox.test.default(x = DATA[[1L]], y = DATA[[2L]], ...):\n",
      "\"cannot compute exact p-value with zeroes\"\n",
      "Warning message in wilcox.test.default(x = DATA[[1L]], y = DATA[[2L]], ...):\n",
      "\"cannot compute exact p-value with zeroes\"\n",
      "Warning message in wilcox.test.default(x = DATA[[1L]], y = DATA[[2L]], ...):\n",
      "\"cannot compute exact p-value with zeroes\"\n",
      "Warning message in wilcox.test.default(x = DATA[[1L]], y = DATA[[2L]], ...):\n",
      "\"cannot compute exact p-value with zeroes\"\n",
      "Warning message in wilcox.test.default(x = DATA[[1L]], y = DATA[[2L]], ...):\n",
      "\"cannot compute exact p-value with zeroes\"\n",
      "Warning message in wilcox.test.default(x = DATA[[1L]], y = DATA[[2L]], ...):\n",
      "\"cannot compute exact p-value with zeroes\"\n",
      "Warning message in wilcox.test.default(x = DATA[[1L]], y = DATA[[2L]], ...):\n",
      "\"cannot compute exact p-value with zeroes\"\n",
      "Warning message in wilcox.test.default(x = DATA[[1L]], y = DATA[[2L]], ...):\n",
      "\"cannot compute exact p-value with zeroes\"\n",
      "Warning message in wilcox.test.default(x = DATA[[1L]], y = DATA[[2L]], ...):\n",
      "\"cannot compute exact p-value with zeroes\"\n",
      "Warning message in wilcox.test.default(x = DATA[[1L]], y = DATA[[2L]], ...):\n",
      "\"cannot compute exact p-value with zeroes\"\n",
      "Warning message in wilcox.test.default(x = DATA[[1L]], y = DATA[[2L]], ...):\n",
      "\"cannot compute exact p-value with zeroes\"\n",
      "Warning message in wilcox.test.default(x = DATA[[1L]], y = DATA[[2L]], ...):\n",
      "\"cannot compute exact p-value with zeroes\"\n",
      "Warning message in wilcox.test.default(x = DATA[[1L]], y = DATA[[2L]], ...):\n",
      "\"cannot compute exact p-value with zeroes\"\n",
      "Warning message in wilcox.test.default(x = DATA[[1L]], y = DATA[[2L]], ...):\n",
      "\"cannot compute exact p-value with zeroes\"\n",
      "Warning message in wilcox.test.default(x = DATA[[1L]], y = DATA[[2L]], ...):\n",
      "\"cannot compute exact p-value with zeroes\"\n",
      "Warning message in wilcox.test.default(x = DATA[[1L]], y = DATA[[2L]], ...):\n",
      "\"cannot compute exact p-value with zeroes\"\n",
      "Warning message in wilcox.test.default(x = DATA[[1L]], y = DATA[[2L]], ...):\n",
      "\"cannot compute exact p-value with zeroes\"\n",
      "Warning message in wilcox.test.default(x = DATA[[1L]], y = DATA[[2L]], ...):\n",
      "\"cannot compute exact p-value with zeroes\"\n",
      "Warning message in wilcox.test.default(x = DATA[[1L]], y = DATA[[2L]], ...):\n",
      "\"cannot compute exact p-value with zeroes\"\n",
      "Warning message in wilcox.test.default(x = DATA[[1L]], y = DATA[[2L]], ...):\n",
      "\"cannot compute exact p-value with zeroes\"\n",
      "Warning message in wilcox.test.default(x = DATA[[1L]], y = DATA[[2L]], ...):\n",
      "\"cannot compute exact p-value with zeroes\"\n",
      "Warning message in wilcox.test.default(x = DATA[[1L]], y = DATA[[2L]], ...):\n",
      "\"cannot compute exact p-value with zeroes\"\n",
      "Warning message in wilcox.test.default(x = DATA[[1L]], y = DATA[[2L]], ...):\n",
      "\"cannot compute exact p-value with zeroes\"\n",
      "Warning message in wilcox.test.default(x = DATA[[1L]], y = DATA[[2L]], ...):\n",
      "\"cannot compute exact p-value with zeroes\"\n",
      "Warning message in wilcox.test.default(x = DATA[[1L]], y = DATA[[2L]], ...):\n",
      "\"cannot compute exact p-value with zeroes\"\n",
      "Warning message in wilcox.test.default(x = DATA[[1L]], y = DATA[[2L]], ...):\n",
      "\"cannot compute exact p-value with zeroes\"\n",
      "Warning message in wilcox.test.default(x = DATA[[1L]], y = DATA[[2L]], ...):\n",
      "\"cannot compute exact p-value with zeroes\"\n",
      "Warning message in wilcox.test.default(x = DATA[[1L]], y = DATA[[2L]], ...):\n",
      "\"cannot compute exact p-value with zeroes\"\n",
      "Warning message in wilcox.test.default(x = DATA[[1L]], y = DATA[[2L]], ...):\n",
      "\"cannot compute exact p-value with zeroes\"\n",
      "Warning message in wilcox.test.default(x = DATA[[1L]], y = DATA[[2L]], ...):\n",
      "\"cannot compute exact p-value with zeroes\"\n",
      "Warning message in wilcox.test.default(x = DATA[[1L]], y = DATA[[2L]], ...):\n",
      "\"cannot compute exact p-value with zeroes\"\n",
      "Warning message in wilcox.test.default(x = DATA[[1L]], y = DATA[[2L]], ...):\n",
      "\"cannot compute exact p-value with zeroes\"\n",
      "Warning message in wilcox.test.default(x = DATA[[1L]], y = DATA[[2L]], ...):\n",
      "\"cannot compute exact p-value with zeroes\"\n",
      "Warning message in wilcox.test.default(x = DATA[[1L]], y = DATA[[2L]], ...):\n",
      "\"cannot compute exact p-value with zeroes\"\n",
      "Warning message in wilcox.test.default(x = DATA[[1L]], y = DATA[[2L]], ...):\n",
      "\"cannot compute exact p-value with zeroes\"\n",
      "Warning message in wilcox.test.default(x = DATA[[1L]], y = DATA[[2L]], ...):\n",
      "\"cannot compute exact p-value with zeroes\"\n",
      "Warning message in wilcox.test.default(x = DATA[[1L]], y = DATA[[2L]], ...):\n",
      "\"cannot compute exact p-value with zeroes\"\n",
      "Warning message in wilcox.test.default(x = DATA[[1L]], y = DATA[[2L]], ...):\n",
      "\"cannot compute exact p-value with zeroes\"\n",
      "Warning message in wilcox.test.default(x = DATA[[1L]], y = DATA[[2L]], ...):\n",
      "\"cannot compute exact p-value with zeroes\"\n",
      "Warning message in wilcox.test.default(x = DATA[[1L]], y = DATA[[2L]], ...):\n",
      "\"cannot compute exact p-value with zeroes\"\n",
      "Warning message in wilcox.test.default(x = DATA[[1L]], y = DATA[[2L]], ...):\n",
      "\"cannot compute exact p-value with zeroes\"\n",
      "Warning message in wilcox.test.default(x = DATA[[1L]], y = DATA[[2L]], ...):\n",
      "\"cannot compute exact p-value with zeroes\"\n",
      "Warning message in wilcox.test.default(x = DATA[[1L]], y = DATA[[2L]], ...):\n",
      "\"cannot compute exact p-value with zeroes\"\n"
     ]
    }
   ],
   "source": [
    "# copy/paste 'Wilcoxon_Sign_Rank_Test.R' function\n",
    "W_test_res_occ_0.01 <- Wilcoxon_Sign_Rank_Test(physeq=comp_psq3, phen=uniq_samples_by_pairs,PID=\"ppairs\",GROUP=\"group\", grp1=\"control\",grp2=\"psoriasis\",paired=T,occ=0.01)"
   ]
  },
  {
   "cell_type": "code",
   "execution_count": 105,
   "metadata": {
    "vscode": {
     "languageId": "r"
    }
   },
   "outputs": [],
   "source": [
    "# export select columns\n",
    "write.table(W_test_res_occ_0.01[which(W_test_res_occ_0.01$Pvalue<=0.10),c(1,5,8)],file=\"quasi-pair-wilcox-p_0.1_occur_0.01_sp.txt\",quote=F,row.names=F,sep=\"\\t\")\n",
    "\n",
    "# export all\n",
    "write.table(W_test_res_occ_0.01[which(W_test_res_occ_0.01$Pvalue<=0.10),],file=\"quasi-pair-wilcox-p_0.1_occur_0.01_ALL_RESULTS.txt\",quote=F,row.names=F,sep=\"\\t\")\n",
    "save.image(file=\"quasi-pair_analysis.RData\")\n",
    "\n",
    "write.table(uniq_samples_by_pairs, file=\"Matched_Pairs_IDs.txt\", quote=F)"
   ]
  },
  {
   "cell_type": "code",
   "execution_count": null,
   "metadata": {
    "vscode": {
     "languageId": "r"
    }
   },
   "outputs": [],
   "source": [
    "# SUCCESSFUL\n",
    "# Note: Not all species survived internal filtering to run Wilcoxon test"
   ]
  },
  {
   "cell_type": "code",
   "execution_count": 131,
   "metadata": {
    "vscode": {
     "languageId": "r"
    }
   },
   "outputs": [
    {
     "data": {
      "text/html": [
       "<style>\n",
       ".list-inline {list-style: none; margin:0; padding: 0}\n",
       ".list-inline>li {display: inline-block}\n",
       ".list-inline>li:not(:last-child)::after {content: \"\\00b7\"; padding: 0 .5ex}\n",
       "</style>\n",
       "<ol class=list-inline><li>249</li><li>15</li></ol>\n"
      ],
      "text/latex": [
       "\\begin{enumerate*}\n",
       "\\item 249\n",
       "\\item 15\n",
       "\\end{enumerate*}\n"
      ],
      "text/markdown": [
       "1. 249\n",
       "2. 15\n",
       "\n",
       "\n"
      ],
      "text/plain": [
       "[1] 249  15"
      ]
     },
     "metadata": {},
     "output_type": "display_data"
    }
   ],
   "source": [
    "dim(W_test_res_occ_0.01)\n",
    "#[1] 172  16"
   ]
  },
  {
   "cell_type": "code",
   "execution_count": 132,
   "metadata": {
    "vscode": {
     "languageId": "r"
    }
   },
   "outputs": [
    {
     "data": {
      "text/html": [
       "<table class=\"dataframe\">\n",
       "<caption>A data.frame: 10 x 6</caption>\n",
       "<thead>\n",
       "\t<tr><th></th><th scope=col>type</th><th scope=col>Pvalue</th><th scope=col>Enrich_median</th><th scope=col>Enrich_rank</th><th scope=col>control_occurence</th><th scope=col>psoriasis_occurence</th></tr>\n",
       "\t<tr><th></th><th scope=col>&lt;chr&gt;</th><th scope=col>&lt;dbl&gt;</th><th scope=col>&lt;chr&gt;</th><th scope=col>&lt;chr&gt;</th><th scope=col>&lt;chr&gt;</th><th scope=col>&lt;chr&gt;</th></tr>\n",
       "</thead>\n",
       "<tbody>\n",
       "\t<tr><th scope=row>1</th><td>Eubacterium_sp_CAG_180   </td><td>0.00602998</td><td>psoriasis      </td><td>psoriasis</td><td>0.2128</td><td>0.5106</td></tr>\n",
       "\t<tr><th scope=row>2</th><td>Megasphaera_elsdenii     </td><td>0.00971774</td><td>No significance</td><td>psoriasis</td><td>0.1277</td><td>0.4043</td></tr>\n",
       "\t<tr><th scope=row>3</th><td>Ruminococcus_obeum_CAG_39</td><td>0.01078740</td><td>No significance</td><td>control  </td><td>0.1915</td><td>0.1064</td></tr>\n",
       "\t<tr><th scope=row>4</th><td>Roseburia_inulinivorans  </td><td>0.01652970</td><td>control        </td><td>control  </td><td>1     </td><td>0.8936</td></tr>\n",
       "\t<tr><th scope=row>5</th><td>Haemophilus_sp_HMSC71H05 </td><td>0.01991110</td><td>control        </td><td>control  </td><td>0.5106</td><td>0.2979</td></tr>\n",
       "\t<tr><th scope=row>6</th><td>Clostridium_leptum       </td><td>0.02042690</td><td>No significance</td><td>psoriasis</td><td>0.2979</td><td>0.4468</td></tr>\n",
       "\t<tr><th scope=row>7</th><td>Eubacterium_eligens      </td><td>0.02177160</td><td>control        </td><td>control  </td><td>0.8936</td><td>0.6809</td></tr>\n",
       "\t<tr><th scope=row>8</th><td>Rothia_mucilaginosa      </td><td>0.02337640</td><td>No significance</td><td>psoriasis</td><td>0.0851</td><td>0.1702</td></tr>\n",
       "\t<tr><th scope=row>9</th><td>Bacteroides_vulgatus     </td><td>0.03208680</td><td>control        </td><td>control  </td><td>0.9787</td><td>0.9574</td></tr>\n",
       "\t<tr><th scope=row>10</th><td>Bacteroides_xylanisolvens</td><td>0.04974160</td><td>psoriasis      </td><td>psoriasis</td><td>0.766 </td><td>0.8936</td></tr>\n",
       "</tbody>\n",
       "</table>\n"
      ],
      "text/latex": [
       "A data.frame: 10 x 6\n",
       "\\begin{tabular}{r|llllll}\n",
       "  & type & Pvalue & Enrich\\_median & Enrich\\_rank & control\\_occurence & psoriasis\\_occurence\\\\\n",
       "  & <chr> & <dbl> & <chr> & <chr> & <chr> & <chr>\\\\\n",
       "\\hline\n",
       "\t1 & Eubacterium\\_sp\\_CAG\\_180    & 0.00602998 & psoriasis       & psoriasis & 0.2128 & 0.5106\\\\\n",
       "\t2 & Megasphaera\\_elsdenii      & 0.00971774 & No significance & psoriasis & 0.1277 & 0.4043\\\\\n",
       "\t3 & Ruminococcus\\_obeum\\_CAG\\_39 & 0.01078740 & No significance & control   & 0.1915 & 0.1064\\\\\n",
       "\t4 & Roseburia\\_inulinivorans   & 0.01652970 & control         & control   & 1      & 0.8936\\\\\n",
       "\t5 & Haemophilus\\_sp\\_HMSC71H05  & 0.01991110 & control         & control   & 0.5106 & 0.2979\\\\\n",
       "\t6 & Clostridium\\_leptum        & 0.02042690 & No significance & psoriasis & 0.2979 & 0.4468\\\\\n",
       "\t7 & Eubacterium\\_eligens       & 0.02177160 & control         & control   & 0.8936 & 0.6809\\\\\n",
       "\t8 & Rothia\\_mucilaginosa       & 0.02337640 & No significance & psoriasis & 0.0851 & 0.1702\\\\\n",
       "\t9 & Bacteroides\\_vulgatus      & 0.03208680 & control         & control   & 0.9787 & 0.9574\\\\\n",
       "\t10 & Bacteroides\\_xylanisolvens & 0.04974160 & psoriasis       & psoriasis & 0.766  & 0.8936\\\\\n",
       "\\end{tabular}\n"
      ],
      "text/markdown": [
       "\n",
       "A data.frame: 10 x 6\n",
       "\n",
       "| <!--/--> | type &lt;chr&gt; | Pvalue &lt;dbl&gt; | Enrich_median &lt;chr&gt; | Enrich_rank &lt;chr&gt; | control_occurence &lt;chr&gt; | psoriasis_occurence &lt;chr&gt; |\n",
       "|---|---|---|---|---|---|---|\n",
       "| 1 | Eubacterium_sp_CAG_180    | 0.00602998 | psoriasis       | psoriasis | 0.2128 | 0.5106 |\n",
       "| 2 | Megasphaera_elsdenii      | 0.00971774 | No significance | psoriasis | 0.1277 | 0.4043 |\n",
       "| 3 | Ruminococcus_obeum_CAG_39 | 0.01078740 | No significance | control   | 0.1915 | 0.1064 |\n",
       "| 4 | Roseburia_inulinivorans   | 0.01652970 | control         | control   | 1      | 0.8936 |\n",
       "| 5 | Haemophilus_sp_HMSC71H05  | 0.01991110 | control         | control   | 0.5106 | 0.2979 |\n",
       "| 6 | Clostridium_leptum        | 0.02042690 | No significance | psoriasis | 0.2979 | 0.4468 |\n",
       "| 7 | Eubacterium_eligens       | 0.02177160 | control         | control   | 0.8936 | 0.6809 |\n",
       "| 8 | Rothia_mucilaginosa       | 0.02337640 | No significance | psoriasis | 0.0851 | 0.1702 |\n",
       "| 9 | Bacteroides_vulgatus      | 0.03208680 | control         | control   | 0.9787 | 0.9574 |\n",
       "| 10 | Bacteroides_xylanisolvens | 0.04974160 | psoriasis       | psoriasis | 0.766  | 0.8936 |\n",
       "\n"
      ],
      "text/plain": [
       "   type                      Pvalue     Enrich_median   Enrich_rank\n",
       "1  Eubacterium_sp_CAG_180    0.00602998 psoriasis       psoriasis  \n",
       "2  Megasphaera_elsdenii      0.00971774 No significance psoriasis  \n",
       "3  Ruminococcus_obeum_CAG_39 0.01078740 No significance control    \n",
       "4  Roseburia_inulinivorans   0.01652970 control         control    \n",
       "5  Haemophilus_sp_HMSC71H05  0.01991110 control         control    \n",
       "6  Clostridium_leptum        0.02042690 No significance psoriasis  \n",
       "7  Eubacterium_eligens       0.02177160 control         control    \n",
       "8  Rothia_mucilaginosa       0.02337640 No significance psoriasis  \n",
       "9  Bacteroides_vulgatus      0.03208680 control         control    \n",
       "10 Bacteroides_xylanisolvens 0.04974160 psoriasis       psoriasis  \n",
       "   control_occurence psoriasis_occurence\n",
       "1  0.2128            0.5106             \n",
       "2  0.1277            0.4043             \n",
       "3  0.1915            0.1064             \n",
       "4  1                 0.8936             \n",
       "5  0.5106            0.2979             \n",
       "6  0.2979            0.4468             \n",
       "7  0.8936            0.6809             \n",
       "8  0.0851            0.1702             \n",
       "9  0.9787            0.9574             \n",
       "10 0.766             0.8936             "
      ]
     },
     "metadata": {},
     "output_type": "display_data"
    }
   ],
   "source": [
    "W_test_res_occ_0.01[which(W_test_res_occ_0.01$Pvalue<=0.05),c(1,5,7:10)]"
   ]
  },
  {
   "cell_type": "markdown",
   "metadata": {},
   "source": [
    "### PLOT for top species (14) matched-pair Wilcoxon test"
   ]
  },
  {
   "cell_type": "code",
   "execution_count": null,
   "metadata": {
    "vscode": {
     "languageId": "r"
    }
   },
   "outputs": [],
   "source": [
    "# Take a subset of species increased in psoriasis\n",
    "\n",
    "top7_comp_psq3 <- subset_taxa(comp_psq3, Species == \"Megasphaera_elsdenii\" | \n",
    "                                         Species == \"Eubacterium_sp_CAG_180\" | \n",
    "                                         Species == \"Rothia_mucilaginosa\" | \n",
    "                                         Species == \"Bacteroides_xylanisolvens\" | \n",
    "                                         Species == \"Clostridium_leptum\" | \n",
    "                                         Species == \"Catenibacterium_mitsuokai\" | \n",
    "                                         Species == \"Prevotella_sp_AM42_24\")"
   ]
  },
  {
   "cell_type": "code",
   "execution_count": 134,
   "metadata": {
    "vscode": {
     "languageId": "r"
    }
   },
   "outputs": [
    {
     "data": {
      "text/plain": [
       "phyloseq-class experiment-level object\n",
       "otu_table()   OTU Table:         [ 7 taxa and 95 samples ]\n",
       "sample_data() Sample Data:       [ 95 samples by 56 sample variables ]\n",
       "tax_table()   Taxonomy Table:    [ 7 taxa by 7 taxonomic ranks ]"
      ]
     },
     "metadata": {},
     "output_type": "display_data"
    }
   ],
   "source": [
    "# Keep only samples with Calprotectin data - remove NA's\n",
    "\n",
    "top7_comp_psq3_calp <- subset_samples(top7_comp_psq3, Calprotectin != \"NA\")\n",
    "top7_comp_psq3_calp"
   ]
  },
  {
   "cell_type": "code",
   "execution_count": 135,
   "metadata": {
    "vscode": {
     "languageId": "r"
    }
   },
   "outputs": [
    {
     "data": {
      "text/html": [
       "<table class=\"dataframe\">\n",
       "<caption>A taxonomyTable: 7 x 1 of type chr</caption>\n",
       "<thead>\n",
       "\t<tr><th></th><th scope=col>Phylum</th></tr>\n",
       "</thead>\n",
       "<tbody>\n",
       "\t<tr><th scope=row>Rothia_mucilaginosa</th><td>Actinobacteria</td></tr>\n",
       "\t<tr><th scope=row>Bacteroides_xylanisolvens</th><td>Bacteroidetes </td></tr>\n",
       "\t<tr><th scope=row>Prevotella_sp_AM42_24</th><td>Bacteroidetes </td></tr>\n",
       "\t<tr><th scope=row>Eubacterium_sp_CAG_180</th><td>Firmicutes    </td></tr>\n",
       "\t<tr><th scope=row>Clostridium_leptum</th><td>Firmicutes    </td></tr>\n",
       "\t<tr><th scope=row>Catenibacterium_mitsuokai</th><td>Firmicutes    </td></tr>\n",
       "\t<tr><th scope=row>Megasphaera_elsdenii</th><td>Firmicutes    </td></tr>\n",
       "</tbody>\n",
       "</table>\n"
      ],
      "text/latex": [
       "A taxonomyTable: 7 x 1 of type chr\n",
       "\\begin{tabular}{r|l}\n",
       "  & Phylum\\\\\n",
       "\\hline\n",
       "\tRothia\\_mucilaginosa & Actinobacteria\\\\\n",
       "\tBacteroides\\_xylanisolvens & Bacteroidetes \\\\\n",
       "\tPrevotella\\_sp\\_AM42\\_24 & Bacteroidetes \\\\\n",
       "\tEubacterium\\_sp\\_CAG\\_180 & Firmicutes    \\\\\n",
       "\tClostridium\\_leptum & Firmicutes    \\\\\n",
       "\tCatenibacterium\\_mitsuokai & Firmicutes    \\\\\n",
       "\tMegasphaera\\_elsdenii & Firmicutes    \\\\\n",
       "\\end{tabular}\n"
      ],
      "text/markdown": [
       "\n",
       "A taxonomyTable: 7 x 1 of type chr\n",
       "\n",
       "| <!--/--> | Phylum |\n",
       "|---|---|\n",
       "| Rothia_mucilaginosa | Actinobacteria |\n",
       "| Bacteroides_xylanisolvens | Bacteroidetes  |\n",
       "| Prevotella_sp_AM42_24 | Bacteroidetes  |\n",
       "| Eubacterium_sp_CAG_180 | Firmicutes     |\n",
       "| Clostridium_leptum | Firmicutes     |\n",
       "| Catenibacterium_mitsuokai | Firmicutes     |\n",
       "| Megasphaera_elsdenii | Firmicutes     |\n",
       "\n"
      ],
      "text/plain": [
       "                          Phylum        \n",
       "Rothia_mucilaginosa       Actinobacteria\n",
       "Bacteroides_xylanisolvens Bacteroidetes \n",
       "Prevotella_sp_AM42_24     Bacteroidetes \n",
       "Eubacterium_sp_CAG_180    Firmicutes    \n",
       "Clostridium_leptum        Firmicutes    \n",
       "Catenibacterium_mitsuokai Firmicutes    \n",
       "Megasphaera_elsdenii      Firmicutes    "
      ]
     },
     "metadata": {},
     "output_type": "display_data"
    }
   ],
   "source": [
    "tax_table(top7_comp_psq3_calp)[,2]"
   ]
  },
  {
   "cell_type": "code",
   "execution_count": 136,
   "metadata": {
    "vscode": {
     "languageId": "r"
    }
   },
   "outputs": [
    {
     "data": {
      "text/html": [
       "<style>\n",
       ".list-inline {list-style: none; margin:0; padding: 0}\n",
       ".list-inline>li {display: inline-block}\n",
       ".list-inline>li:not(:last-child)::after {content: \"\\00b7\"; padding: 0 .5ex}\n",
       "</style>\n",
       "<ol class=list-inline><li>'Rothia_mucilaginosa'</li><li>'Bacteroides_xylanisolvens'</li><li>'Prevotella_sp_AM42_24'</li><li>'Eubacterium_sp_CAG_180'</li><li>'Clostridium_leptum'</li><li>'Catenibacterium_mitsuokai'</li><li>'Megasphaera_elsdenii'</li></ol>\n"
      ],
      "text/latex": [
       "\\begin{enumerate*}\n",
       "\\item 'Rothia\\_mucilaginosa'\n",
       "\\item 'Bacteroides\\_xylanisolvens'\n",
       "\\item 'Prevotella\\_sp\\_AM42\\_24'\n",
       "\\item 'Eubacterium\\_sp\\_CAG\\_180'\n",
       "\\item 'Clostridium\\_leptum'\n",
       "\\item 'Catenibacterium\\_mitsuokai'\n",
       "\\item 'Megasphaera\\_elsdenii'\n",
       "\\end{enumerate*}\n"
      ],
      "text/markdown": [
       "1. 'Rothia_mucilaginosa'\n",
       "2. 'Bacteroides_xylanisolvens'\n",
       "3. 'Prevotella_sp_AM42_24'\n",
       "4. 'Eubacterium_sp_CAG_180'\n",
       "5. 'Clostridium_leptum'\n",
       "6. 'Catenibacterium_mitsuokai'\n",
       "7. 'Megasphaera_elsdenii'\n",
       "\n",
       "\n"
      ],
      "text/plain": [
       "[1] \"Rothia_mucilaginosa\"       \"Bacteroides_xylanisolvens\"\n",
       "[3] \"Prevotella_sp_AM42_24\"     \"Eubacterium_sp_CAG_180\"   \n",
       "[5] \"Clostridium_leptum\"        \"Catenibacterium_mitsuokai\"\n",
       "[7] \"Megasphaera_elsdenii\"     "
      ]
     },
     "metadata": {},
     "output_type": "display_data"
    }
   ],
   "source": [
    "rownames(tax_table(top7_comp_psq3_calp))\n",
    "colors_bad_7 <- c(\"black\",\"grey55\",\"grey77\",\"cornflowerblue\",\"violet\",\"lightseagreen\",\"mediumblue\")\n",
    "names( colors_bad_7) <- c(rownames(tax_table(top7_comp_psq3_calp)))\n"
   ]
  },
  {
   "cell_type": "code",
   "execution_count": 137,
   "metadata": {
    "vscode": {
     "languageId": "r"
    }
   },
   "outputs": [
    {
     "data": {
      "image/png": "[encoded data removed]",
      "text/plain": [
       "plot without title"
      ]
     },
     "metadata": {
      "image/png": {
       "height": 420,
       "width": 420
      }
     },
     "output_type": "display_data"
    }
   ],
   "source": [
    "fp <- top7_comp_psq3_calp %>% plot_composition(sample.sort = \"Calprotectin\", otu.sort = \"abundance\", x.label = \"shortID\", group_by=\"Diagnosis\") \n",
    "\n",
    "fp + \n",
    "    theme_classic() + \n",
    "    scale_fill_manual(\"Species\",values = colors_bad_7) +\n",
    "    theme(axis.text.x = element_text(angle=90, hjust=1, size=6),\n",
    "    axis.text.y = element_text(size=6),\n",
    "    legend.text = element_text(face = \"italic\", size=6)) + \n",
    "    theme(legend.key.size = unit(0.1, \"inch\"))\n",
    "#dev.copy2pdf(file=\"Matched-Pair-Wilcox-Top-7-bad-candidates-Calprotectin-sorted.pdf\",width=7,height=3.0)"
   ]
  },
  {
   "cell_type": "code",
   "execution_count": 103,
   "metadata": {
    "vscode": {
     "languageId": "r"
    }
   },
   "outputs": [
    {
     "data": {
      "text/plain": [
       "R version 4.3.2 (2023-10-31)\n",
       "Platform: aarch64-apple-darwin20 (64-bit)\n",
       "Running under: macOS Sonoma 14.6.1\n",
       "\n",
       "Matrix products: default\n",
       "BLAS:   /Library/Frameworks/R.framework/Versions/4.3-arm64/Resources/lib/libRblas.0.dylib \n",
       "LAPACK: /Library/Frameworks/R.framework/Versions/4.3-arm64/Resources/lib/libRlapack.dylib;  LAPACK version 3.11.0\n",
       "\n",
       "locale:\n",
       "[1] C\n",
       "\n",
       "time zone: Europe/Berlin\n",
       "tzcode source: internal\n",
       "\n",
       "attached base packages:\n",
       "[1] stats     graphics  grDevices utils     datasets  methods   base     \n",
       "\n",
       "other attached packages:\n",
       " [1] lubridate_1.9.3       forcats_1.0.0         stringr_1.5.1        \n",
       " [4] purrr_1.0.2           readr_2.1.5           tidyr_1.3.1          \n",
       " [7] tidyverse_2.0.0       gcookbook_2.0         tibble_3.2.1         \n",
       "[10] textshape_1.7.5       compositions_2.0-8    zCompositions_1.5.0-2\n",
       "[13] truncnorm_1.0-9       NADA_1.6-1.1          survival_3.5-8       \n",
       "[16] plyr_1.8.9            dplyr_1.1.4           microbiome_1.24.0    \n",
       "[19] PairedData_1.1.1      ggplot2_3.5.0         lattice_0.22-5       \n",
       "[22] mvtnorm_1.2-6         gld_2.6.6             MASS_7.3-60.0.1      \n",
       "[25] optmatch_0.10.7       MatchIt_4.5.5         phyloseq_1.46.0      \n",
       "\n",
       "loaded via a namespace (and not attached):\n",
       " [1] bitops_1.0-7            permute_0.9-7           rlang_1.1.3            \n",
       " [4] magrittr_2.0.3          ade4_1.7-22             e1071_1.7-14           \n",
       " [7] compiler_4.3.2          mgcv_1.9-1              vctrs_0.6.5            \n",
       "[10] reshape2_1.4.4          pkgconfig_2.0.3         crayon_1.5.2           \n",
       "[13] fastmap_1.1.1           backports_1.4.1         XVector_0.42.0         \n",
       "[16] labeling_0.4.3          utf8_1.2.4              tzdb_0.4.0             \n",
       "[19] varhandle_2.0.6         zlibbioc_1.48.0         GenomeInfoDb_1.38.7    \n",
       "[22] jsonlite_1.8.8          biomformat_1.30.0       rhdf5filters_1.14.1    \n",
       "[25] chk_0.9.1               uuid_1.2-0              Rhdf5lib_1.24.2        \n",
       "[28] parallel_4.3.2          cluster_2.1.6           R6_2.5.1               \n",
       "[31] stringi_1.8.3           Rcpp_1.0.12             IRkernel_1.3.2         \n",
       "[34] iterators_1.0.14        base64enc_0.1-3         IRanges_2.36.0         \n",
       "[37] timechange_0.3.0        Matrix_1.6-5            splines_4.3.2          \n",
       "[40] igraph_2.0.2            tidyselect_1.2.0        vegan_2.6-4            \n",
       "[43] codetools_0.2-19        Biobase_2.62.0          withr_3.0.0            \n",
       "[46] evaluate_0.23           Rtsne_0.17              proxy_0.4-27           \n",
       "[49] bayesm_3.1-6            Biostrings_2.70.2       pillar_1.9.0           \n",
       "[52] tensorA_0.36.2.1        foreach_1.5.2           stats4_4.3.2           \n",
       "[55] generics_0.1.3          RCurl_1.98-1.14         IRdisplay_1.1          \n",
       "[58] hms_1.1.3               S4Vectors_0.40.2        munsell_0.5.0          \n",
       "[61] scales_1.3.0            class_7.3-22            glue_1.7.0             \n",
       "[64] lmom_3.0                tools_4.3.2             robustbase_0.99-2      \n",
       "[67] data.table_1.15.2       pbdZMQ_0.3-11           rhdf5_2.46.1           \n",
       "[70] grid_4.3.2              ape_5.7-1               colorspace_2.1-0       \n",
       "[73] nlme_3.1-164            GenomeInfoDbData_1.2.11 repr_1.1.7             \n",
       "[76] cli_3.6.2               fansi_1.0.6             gtable_0.3.4           \n",
       "[79] DEoptimR_1.1-3          digest_0.6.34           BiocGenerics_0.48.1    \n",
       "[82] farver_2.1.1            htmltools_0.5.7         multtest_2.58.0        \n",
       "[85] lifecycle_1.0.4        "
      ]
     },
     "metadata": {},
     "output_type": "display_data"
    }
   ],
   "source": [
    "sessionInfo()\n"
   ]
  }
 ],
 "metadata": {
  "kernelspec": {
   "display_name": "R",
   "language": "R",
   "name": "ir"
  },
  "language_info": {
   "codemirror_mode": "r",
   "file_extension": ".r",
   "mimetype": "text/x-r-source",
   "name": "R",
   "pygments_lexer": "r",
   "version": "4.3.2"
  }
 },
 "nbformat": 4,
 "nbformat_minor": 2
}
