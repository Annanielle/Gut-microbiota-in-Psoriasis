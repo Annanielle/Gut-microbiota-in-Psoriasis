{
 "cells": [
  {
   "cell_type": "markdown",
   "metadata": {},
   "source": [
    "# Goal: Compute alpha, beta diversity, etc\n",
    "\n",
    "####  Estimate Basic Community diversity metrics on unfiltered data"
   ]
  },
  {
   "cell_type": "markdown",
   "metadata": {},
   "source": [
    "## Packages"
   ]
  },
  {
   "cell_type": "raw",
   "metadata": {
    "vscode": {
     "languageId": "raw"
    }
   },
   "source": [
    "library(phyloseq)\n",
    "library(microbiome)"
   ]
  },
  {
   "cell_type": "markdown",
   "metadata": {},
   "source": [
    "## Alpha diversity (Shanon index)"
   ]
  },
  {
   "cell_type": "raw",
   "metadata": {
    "vscode": {
     "languageId": "raw"
    }
   },
   "source": [
    "shannon <-microbiome::alpha(psq, index='shannon')\n",
    "\n",
    "# Assign the estimated diversity to sample metadata\n",
    "\n",
    "sample_data(psq)$shannon <- shannon$diversity_shannon\n",
    "\n",
    "# Split the values by group\n",
    "\n",
    "spl <- split(sample_data(psq)$shannon, sample_data(psq)$Diagnosis)"
   ]
  },
  {
   "cell_type": "raw",
   "metadata": {
    "vscode": {
     "languageId": "raw"
    }
   },
   "source": [
    "# Kolmogorov-Smirnov test\n",
    "\n",
    "ks.test(spl$control, spl$psoriasis)"
   ]
  },
  {
   "cell_type": "raw",
   "metadata": {
    "vscode": {
     "languageId": "raw"
    }
   },
   "source": [
    "pv <- ks.test(spl$control, spl$psoriasis)$p.value\n",
    "\n",
    "# Adjust the p-value\n",
    "padj <- p.adjust(pv)\n",
    "\n",
    "pv\n"
   ]
  },
  {
   "cell_type": "raw",
   "metadata": {
    "vscode": {
     "languageId": "raw"
    }
   },
   "source": [
    "sample_size = as.data.frame(sample_data(psq)[,c('ID','Diagnosis')]) %>% group_by(Diagnosis) %>% summarize(num=n())"
   ]
  },
  {
   "cell_type": "markdown",
   "metadata": {},
   "source": [
    "### Visualize shannon diversity"
   ]
  },
  {
   "cell_type": "raw",
   "metadata": {
    "vscode": {
     "languageId": "raw"
    }
   },
   "source": [
    "# Violin\n",
    "\n",
    "p.shannon <- boxplot_alpha(psq, index = \"shannon\", x_var = \"Diagnosis\", fill.colors = c(control=\"green4\", psoriasis=\"red\"), violin = T)\n",
    "\n",
    "p.shannon <- p.shannon + theme_minimal() + labs(x=\"Diagnosis, p-value=0.831\", y=\"Shannon diversity\") + theme(axis.text = element_text(size=12), axis.title = element_text(size=16), legend.text = element_text(size=12), legend.title = element_text(size=16))\n",
    "\n",
    "p.shannon\n",
    "\n",
    "#dev.copy2pdf(file=\"Shannon_case_control_Violin_plot.pdf\",width=3.5,height=3.5)\n"
   ]
  },
  {
   "cell_type": "markdown",
   "metadata": {},
   "source": [
    "## Beta diversity"
   ]
  },
  {
   "cell_type": "markdown",
   "metadata": {},
   "source": [
    "library(tidyverse)\n",
    "library(reshape)"
   ]
  },
  {
   "cell_type": "raw",
   "metadata": {
    "vscode": {
     "languageId": "raw"
    }
   },
   "source": [
    "# Inter-individual divergence / spread\n",
    "# Divergence within a sample set quantifies the overall heterogeneity \n",
    "# in community composition across samples\n",
    "# Calculate divergences within the control and psoriasis groups \n",
    "# with respect to the median profile within each group."
   ]
  },
  {
   "cell_type": "raw",
   "metadata": {
    "vscode": {
     "languageId": "raw"
    }
   },
   "source": [
    "b.cont <- divergence(subset_samples(psq, Diagnosis == \"control\"), apply(abundances(subset_samples(psq, Diagnosis == \"control\")), 1, median))\n",
    "\n",
    "b.psor <- divergence(subset_samples(psq, Diagnosis == \"psoriasis\"), apply(abundances(subset_samples(psq, Diagnosis == \"psoriasis\")), 1, median))\n",
    "\n",
    "\n",
    "l<- list(b.cont, b.psor)\n",
    "df<- melt(l)\n",
    "\n",
    "df$L1[df$L1 == '1']<- 'control'\n",
    "df$L1[df$L1 == '2']<- 'psoriasis'\n",
    "\n",
    "df$L1<- factor(df$L1, levels = c('control','psoriasis'))"
   ]
  },
  {
   "cell_type": "raw",
   "metadata": {
    "vscode": {
     "languageId": "raw"
    }
   },
   "source": [
    "# Kolmogorov-Smironv test\n",
    "\n",
    "ks.test(df[df$L1=='control',1], df[df$L1=='psoriasis',1])\n"
   ]
  },
  {
   "cell_type": "raw",
   "metadata": {
    "vscode": {
     "languageId": "raw"
    }
   },
   "source": [
    "pv <- ks.test(df[df$L1=='control',1], df[df$L1=='psoriasis',1])$p.value\n",
    "\n",
    "\n",
    "group.colors <- c(control = \"green4\", psoriasis = \"red\")\n",
    "\n",
    "\n",
    "p<- ggplot(df, aes(x = L1, y = value, fill=L1)) + geom_boxplot()+ xlab('') + scale_fill_manual(values=group.colors)\n",
    "\n",
    "\n",
    "p + theme_minimal() + labs(x=\"Diagnosis, p-value=0.285\", y=\"Divergence with respect to median profile\")\n"
   ]
  }
 ],
 "metadata": {
  "kernelspec": {
   "display_name": "Python 3",
   "language": "python",
   "name": "python3"
  },
  "language_info": {
   "codemirror_mode": {
    "name": "ipython",
    "version": 3
   },
   "file_extension": ".py",
   "mimetype": "text/x-python",
   "name": "python",
   "nbconvert_exporter": "python",
   "pygments_lexer": "ipython3",
   "version": "3.12.5"
  }
 },
 "nbformat": 4,
 "nbformat_minor": 2
}
